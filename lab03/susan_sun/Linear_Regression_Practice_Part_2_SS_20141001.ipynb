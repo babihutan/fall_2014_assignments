{
 "metadata": {
  "name": "",
  "signature": "sha256:200ad2fe9e6b104a22e194abfd1fbf4201c80b30b812a6f389ed189a81a4f14f"
 },
 "nbformat": 3,
 "nbformat_minor": 0,
 "worksheets": [
  {
   "cells": [
    {
     "cell_type": "code",
     "collapsed": false,
     "input": [
      "# Load Boston Housing Dataset into a Pandas DataFrame\n",
      "\n",
      "# Answer the following questions using python, numpy, and \n",
      "# pandas. 1. Determine the min, median, mean, max for each \n",
      "# numeric feature in the data set. 2. Sort the data frame \n",
      "# by each column (aside from Name), and print the results \n",
      "# of each. What interesting trends exist in this data set, \n",
      "# based on distributions?\n",
      "\n",
      "# Repeat the process from Part 1, by picking a feature \n",
      "# (DataFrame column, X) and see if you can fit a regression \n",
      "# line that predicts medv (y)\n",
      "\n",
      "\n",
      "\n"
     ],
     "language": "python",
     "metadata": {},
     "outputs": []
    }
   ],
   "metadata": {}
  }
 ]
}