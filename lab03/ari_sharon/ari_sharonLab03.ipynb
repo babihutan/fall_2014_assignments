{
 "metadata": {
  "name": "",
  "signature": "sha256:1673409a698bec1864cc5572c37d2409b5a055c9943284e9802c01aa5091f9e9"
 },
 "nbformat": 3,
 "nbformat_minor": 0,
 "worksheets": [
  {
   "cells": [
    {
     "cell_type": "code",
     "collapsed": false,
     "input": [
      "import pandas as pd\n",
      "import numpy as np\n",
      "import matplotlib.pyplot as plt\n",
      "import seaborn as sns\n",
      "from sklearn.linear_model import LinearRegression\n",
      "from IPython.display import Image"
     ],
     "language": "python",
     "metadata": {},
     "outputs": [],
     "prompt_number": 1
    },
    {
     "cell_type": "code",
     "collapsed": false,
     "input": [
      "np.random.seed(0)"
     ],
     "language": "python",
     "metadata": {},
     "outputs": [],
     "prompt_number": 2
    },
    {
     "cell_type": "code",
     "collapsed": false,
     "input": [
      "np.random.random?"
     ],
     "language": "python",
     "metadata": {},
     "outputs": [],
     "prompt_number": 3
    },
    {
     "cell_type": "code",
     "collapsed": false,
     "input": [
      "X = np.random.random(size=(20, 1))\n",
      "X\n",
      "\n"
     ],
     "language": "python",
     "metadata": {},
     "outputs": [
      {
       "metadata": {},
       "output_type": "pyout",
       "prompt_number": 2,
       "text": [
        "array([[ 0.08284462],\n",
        "       [ 0.79880582],\n",
        "       [ 0.99686042],\n",
        "       [ 0.75778504],\n",
        "       [ 0.8562616 ],\n",
        "       [ 0.28293433],\n",
        "       [ 0.83399861],\n",
        "       [ 0.76664696],\n",
        "       [ 0.79488307],\n",
        "       [ 0.39563627],\n",
        "       [ 0.44310872],\n",
        "       [ 0.52374329],\n",
        "       [ 0.25006974],\n",
        "       [ 0.63284383],\n",
        "       [ 0.30780702],\n",
        "       [ 0.82033763],\n",
        "       [ 0.45860327],\n",
        "       [ 0.11546104],\n",
        "       [ 0.94804433],\n",
        "       [ 0.29924462]])"
       ]
      }
     ],
     "prompt_number": 2
    },
    {
     "cell_type": "code",
     "collapsed": false,
     "input": [
      "print X.squeeze()\n",
      "X.shape?"
     ],
     "language": "python",
     "metadata": {},
     "outputs": [
      {
       "output_type": "stream",
       "stream": "stdout",
       "text": [
        "[ 0.97861834  0.79915856  0.46147936  0.78052918  0.11827443  0.63992102\n",
        "  0.14335329  0.94466892  0.52184832  0.41466194  0.26455561  0.77423369\n",
        "  0.45615033  0.56843395  0.0187898   0.6176355   0.61209572  0.616934\n",
        "  0.94374808  0.6818203 ]\n"
       ]
      }
     ],
     "prompt_number": 15
    },
    {
     "cell_type": "code",
     "collapsed": false,
     "input": [
      "y = 2 + 3 * X.flatten() + np.random.normal(size=20)\n",
      "y\n",
      "\n",
      "\n"
     ],
     "language": "python",
     "metadata": {},
     "outputs": [
      {
       "metadata": {},
       "output_type": "pyout",
       "prompt_number": 14,
       "text": [
        "array([ 4.1911002 ,  3.57103715,  3.28598556,  3.67810924,  3.4814592 ,\n",
        "        2.83983156,  1.28259121,  4.39618671,  3.06751251,  5.17351787,\n",
        "        3.74308764,  4.41025231,  2.14301548,  4.54966482,  1.05615405,\n",
        "        2.30813539,  5.02431696,  4.1677446 ,  5.75210306,  4.36418855])"
       ]
      }
     ],
     "prompt_number": 14
    },
    {
     "cell_type": "code",
     "collapsed": false,
     "input": [
      "squeeze\n"
     ],
     "language": "python",
     "metadata": {},
     "outputs": []
    },
    {
     "cell_type": "code",
     "collapsed": false,
     "input": [
      "example_X = np.random.random(size=(5, 1))\n",
      "print example_X\n",
      "print example_X.shape\n",
      "print example_X.squeeze()\n",
      "print example_X.flatten()\n",
      "print example_X.reshape(example_X.size)"
     ],
     "language": "python",
     "metadata": {},
     "outputs": [
      {
       "output_type": "stream",
       "stream": "stdout",
       "text": [
        "[[ 0.46357542]\n",
        " [ 0.27762871]\n",
        " [ 0.58678435]\n",
        " [ 0.86385561]\n",
        " [ 0.11753186]]\n",
        "(5, 1)\n",
        "[ 0.46357542  0.27762871  0.58678435  0.86385561  0.11753186]\n",
        "[ 0.46357542  0.27762871  0.58678435  0.86385561  0.11753186]\n",
        "[ 0.46357542  0.27762871  0.58678435  0.86385561  0.11753186]\n"
       ]
      }
     ],
     "prompt_number": 20
    },
    {
     "cell_type": "code",
     "collapsed": false,
     "input": [
      "plt.plot(X,y,'.')"
     ],
     "language": "python",
     "metadata": {},
     "outputs": [
      {
       "ename": "NameError",
       "evalue": "name 'X' is not defined",
       "output_type": "pyerr",
       "traceback": [
        "\u001b[1;31m---------------------------------------------------------------------------\u001b[0m\n\u001b[1;31mNameError\u001b[0m                                 Traceback (most recent call last)",
        "\u001b[1;32m<ipython-input-1-f63adedd5b3b>\u001b[0m in \u001b[0;36m<module>\u001b[1;34m()\u001b[0m\n\u001b[1;32m----> 1\u001b[1;33m \u001b[0mplt\u001b[0m\u001b[1;33m.\u001b[0m\u001b[0mplot\u001b[0m\u001b[1;33m(\u001b[0m\u001b[0mX\u001b[0m\u001b[1;33m,\u001b[0m\u001b[0my\u001b[0m\u001b[1;33m,\u001b[0m\u001b[1;34m'.'\u001b[0m\u001b[1;33m)\u001b[0m\u001b[1;33m\u001b[0m\u001b[0m\n\u001b[0m",
        "\u001b[1;31mNameError\u001b[0m: name 'X' is not defined"
       ]
      }
     ],
     "prompt_number": 1
    },
    {
     "cell_type": "code",
     "collapsed": false,
     "input": [
      "model = LinearRegression(fit_intercept=True)\n",
      "model.fit(X, y)\n",
      "print (\"Model coe: %.5f, inter: %.5f\"\n",
      "       % (model.coef_, model.intercept_))"
     ],
     "language": "python",
     "metadata": {},
     "outputs": [
      {
       "output_type": "stream",
       "stream": "stdout",
       "text": [
        "Model coe: 2.74212, inter: 2.06720\n"
       ]
      }
     ],
     "prompt_number": 33
    },
    {
     "cell_type": "code",
     "collapsed": false,
     "input": [
      "model = LinearRegression(fit_intercept=True)\n",
      "model.fit(X, y)\n",
      "print (\"Model coefficient: %.5f, and intercept: %.5f\"\n",
      "       % (model.coef_, model.intercept_))"
     ],
     "language": "python",
     "metadata": {},
     "outputs": [
      {
       "output_type": "stream",
       "stream": "stdout",
       "text": [
        "Model coefficient: 2.74212, and intercept: 2.06720\n"
       ]
      }
     ],
     "prompt_number": 30
    },
    {
     "cell_type": "code",
     "collapsed": false,
     "input": [
      "#X_test = np.linspace(0,1, 100).reshape(100,1)\n",
      "X_test = np.linspace(0,1, 100).reshape(100,1)\n",
      "y_hat = model.predict(X_test)"
     ],
     "language": "python",
     "metadata": {},
     "outputs": [],
     "prompt_number": 37
    },
    {
     "cell_type": "code",
     "collapsed": false,
     "input": [
      "plt.plot(X,y,'o')\n",
      "plt.plot(X_test, y_hat)"
     ],
     "language": "python",
     "metadata": {},
     "outputs": [
      {
       "metadata": {},
       "output_type": "pyout",
       "prompt_number": 38,
       "text": [
        "[<matplotlib.lines.Line2D at 0x7f16b42b18d0>]"
       ]
      },
      {
       "metadata": {},
       "output_type": "display_data",
       "png": "[encoded data removed]",
       "text": [
        "<matplotlib.figure.Figure at 0x7f169cb59ad0>"
       ]
      }
     ],
     "prompt_number": 38
    },
    {
     "cell_type": "code",
     "collapsed": false,
     "input": [],
     "language": "python",
     "metadata": {},
     "outputs": []
    },
    {
     "cell_type": "code",
     "collapsed": false,
     "input": [],
     "language": "python",
     "metadata": {},
     "outputs": []
    },
    {
     "cell_type": "code",
     "collapsed": false,
     "input": [],
     "language": "python",
     "metadata": {},
     "outputs": []
    },
    {
     "cell_type": "code",
     "collapsed": false,
     "input": [],
     "language": "python",
     "metadata": {},
     "outputs": []
    }
   ],
   "metadata": {}
  }
 ]
}