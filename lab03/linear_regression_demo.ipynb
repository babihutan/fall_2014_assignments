{
 "metadata": {
  "name": "",
<<<<<<< HEAD
  "signature": "sha256:76d67472a34f34a77006a33f5fe43cf77d36344e95e6ac76bab7a9f3f0110e2f"
=======
  "signature": "sha256:79dc75fb80d36e6bd7052df73885068c4f82b6ddeb19c3ab6ac6c23adbb44772"
>>>>>>> 84f68ed1d18b0df810b82840927c3ca801c5fadb
 },
 "nbformat": 3,
 "nbformat_minor": 0,
 "worksheets": [
  {
   "cells": [
    {
     "cell_type": "code",
     "collapsed": false,
     "input": [
      "import pandas as pd\n",
      "import numpy as np\n",
      "import matplotlib.pyplot as plt\n",
      "import seaborn as sns\n",
      "from sklearn.linear_model import LinearRegression\n",
      "\n",
      "from IPython.display import Image"
     ],
     "language": "python",
     "metadata": {},
     "outputs": [],
<<<<<<< HEAD
     "prompt_number": 1
=======
     "prompt_number": 10
>>>>>>> 84f68ed1d18b0df810b82840927c3ca801c5fadb
    },
    {
     "cell_type": "markdown",
     "metadata": {},
     "source": [
      "### Steps:\n",
      "\n",
      "1. Create random training data for X and y\n",
      "2. Visualize\n",
      "3. Create sklearn Linear Regression Model and fit training data to it\n",
      "4. Create test input data, plug it into the model, and get predicted values for y (y_hat)\n",
      "5. Visualize"
     ]
    },
    {
     "cell_type": "markdown",
     "metadata": {},
     "source": [
      "#### Create some random data"
     ]
    },
    {
     "cell_type": "code",
     "collapsed": false,
     "input": [
      "np.random.seed(0)"
     ],
     "language": "python",
     "metadata": {},
     "outputs": [],
     "prompt_number": 2
    },
    {
     "cell_type": "code",
     "collapsed": false,
     "input": [
      "# Random data\n",
      "Image(url='http://imgs.xkcd.com/comics/random_number.png')"
     ],
     "language": "python",
     "metadata": {},
     "outputs": [
      {
       "html": [
        "<img src=\"http://imgs.xkcd.com/comics/random_number.png\"/>"
       ],
       "metadata": {},
       "output_type": "pyout",
       "prompt_number": 4,
       "text": [
        "<IPython.core.display.Image at 0x7f9877862590>"
       ]
      }
     ],
     "prompt_number": 4
    },
    {
     "cell_type": "markdown",
     "metadata": {},
     "source": [
      "#### Generate X values"
     ]
    },
    {
     "cell_type": "code",
     "collapsed": false,
     "input": [
      "X = np.random.random(size=(20, 1)) # The size of the input array is expected to be [n_samples, n_features]\n",
      "X"
     ],
     "language": "python",
     "metadata": {},
     "outputs": [
      {
       "metadata": {},
       "output_type": "pyout",
<<<<<<< HEAD
       "prompt_number": 53,
       "text": [
        "array([[ 0.6439902 ],\n",
        "       [ 0.42385505],\n",
        "       [ 0.60639321],\n",
        "       [ 0.0191932 ],\n",
        "       [ 0.30157482],\n",
        "       [ 0.66017354],\n",
        "       [ 0.29007761],\n",
        "       [ 0.61801543],\n",
        "       [ 0.4287687 ],\n",
        "       [ 0.13547406],\n",
        "       [ 0.29828233],\n",
        "       [ 0.56996491],\n",
        "       [ 0.59087276],\n",
        "       [ 0.57432525],\n",
        "       [ 0.65320082],\n",
        "       [ 0.65210327],\n",
        "       [ 0.43141844],\n",
        "       [ 0.8965466 ],\n",
        "       [ 0.36756187],\n",
        "       [ 0.43586493]])"
       ]
      }
     ],
     "prompt_number": 53
=======
       "prompt_number": 5,
       "text": [
        "array([[ 0.06855819],\n",
        "       [ 0.72330316],\n",
        "       [ 0.71440753],\n",
        "       [ 0.66422195],\n",
        "       [ 0.24684515],\n",
        "       [ 0.24058691],\n",
        "       [ 0.82525291],\n",
        "       [ 0.77846324],\n",
        "       [ 0.9997546 ],\n",
        "       [ 0.70765256],\n",
        "       [ 0.45393685],\n",
        "       [ 0.10912253],\n",
        "       [ 0.4042831 ],\n",
        "       [ 0.9434304 ],\n",
        "       [ 0.44241555],\n",
        "       [ 0.13623994],\n",
        "       [ 0.55594466],\n",
        "       [ 0.78243181],\n",
        "       [ 0.28200758],\n",
        "       [ 0.87597061]])"
       ]
      }
     ],
     "prompt_number": 5
>>>>>>> 84f68ed1d18b0df810b82840927c3ca801c5fadb
    },
    {
     "cell_type": "code",
     "collapsed": false,
     "input": [
      "print X.shape"
     ],
     "language": "python",
     "metadata": {},
     "outputs": [
      {
       "output_type": "stream",
       "stream": "stdout",
       "text": [
        "(20, 1)\n"
       ]
      }
     ],
<<<<<<< HEAD
     "prompt_number": 54
=======
     "prompt_number": 6
>>>>>>> 84f68ed1d18b0df810b82840927c3ca801c5fadb
    },
    {
     "cell_type": "markdown",
     "metadata": {},
     "source": [
      "#### Generate y values\n",
      "1. what does the \"squeeze\" method do?\n",
      "2. why do we include X when we generate y?\n",
      "3. what happens to y when we change the numbers around?"
     ]
    },
    {
     "cell_type": "code",
     "collapsed": false,
     "input": [
      "y = 2 + 3 * X.squeeze() + np.random.normal(size=20)\n",
      "y\n",
      "y.shape"
     ],
     "language": "python",
     "metadata": {},
     "outputs": [
      {
       "metadata": {},
       "output_type": "pyout",
<<<<<<< HEAD
       "prompt_number": 55,
       "text": [
        "array([ 4.02170132,  3.38641903,  3.23336446,  2.35635163,  3.12698435,\n",
        "        4.41570358,  2.82448472,  3.9039447 ,  2.35077565,  2.69380984,\n",
        "        3.25527424,  4.11804285,  1.83190261,  5.16781146,  4.15246332,\n",
        "        3.53544499,  5.03450877,  4.32555301,  4.44664003,  2.48937381])"
       ]
      }
     ],
     "prompt_number": 55
=======
       "prompt_number": 27,
       "text": [
        "(20,)"
       ]
      }
     ],
     "prompt_number": 27
>>>>>>> 84f68ed1d18b0df810b82840927c3ca801c5fadb
    },
    {
     "cell_type": "markdown",
     "metadata": {},
     "source": [
      "#### Guess the output of each line in the following cell"
     ]
    },
    {
     "cell_type": "code",
     "collapsed": false,
     "input": [
      "np.squeeze?"
     ],
     "language": "python",
     "metadata": {},
     "outputs": [],
     "prompt_number": 10
    },
    {
     "cell_type": "code",
     "collapsed": false,
     "input": [
      "example_X = np.random.random(size=(5, 1)) \n",
      "print example_X\n",
      "print example_X.shape\n",
      "print example_X.squeeze()\n",
      "print example_X.flatten()\n",
      "print example_X.reshape(example_X.size)"
     ],
     "language": "python",
     "metadata": {},
     "outputs": [
      {
       "output_type": "stream",
       "stream": "stdout",
       "text": [
<<<<<<< HEAD
        "[[ 0.97676109]\n",
        " [ 0.60484552]\n",
        " [ 0.73926358]\n",
        " [ 0.03918779]\n",
        " [ 0.28280696]]\n",
        "(5, 1)\n",
        "[ 0.97676109  0.60484552  0.73926358  0.03918779  0.28280696]\n",
        "[ 0.97676109  0.60484552  0.73926358  0.03918779  0.28280696]\n",
        "[ 0.97676109  0.60484552  0.73926358  0.03918779  0.28280696]\n"
       ]
      }
     ],
     "prompt_number": 11
=======
        "[[ 0.5701525 ]\n",
        " [ 0.07532263]\n",
        " [ 0.95520722]\n",
        " [ 0.64272518]\n",
        " [ 0.23321053]]\n",
        "(5, 1)\n",
        "[ 0.5701525   0.07532263  0.95520722  0.64272518  0.23321053]\n",
        "[ 0.5701525   0.07532263  0.95520722  0.64272518  0.23321053]\n",
        "[ 0.5701525   0.07532263  0.95520722  0.64272518  0.23321053]\n"
       ]
      }
     ],
     "prompt_number": 32
>>>>>>> 84f68ed1d18b0df810b82840927c3ca801c5fadb
    },
    {
     "cell_type": "code",
     "collapsed": false,
     "input": [
      "# Visualize this training dataset\n",
      "plt.plot(X,y,'o')"
     ],
     "language": "python",
     "metadata": {},
     "outputs": [
      {
       "metadata": {},
       "output_type": "pyout",
<<<<<<< HEAD
       "prompt_number": 14,
       "text": [
        "[<matplotlib.lines.Line2D at 0x7f9864cf8b10>]"
=======
       "prompt_number": 13,
       "text": [
        "[<matplotlib.lines.Line2D at 0x7f7f438136d0>]"
>>>>>>> 84f68ed1d18b0df810b82840927c3ca801c5fadb
       ]
      },
      {
       "output_type": "stream",
       "stream": "stderr",
       "text": [
        "/usr/lib/pymodules/python2.7/matplotlib/font_manager.py:1236: UserWarning: findfont: Font family ['sans-serif'] not found. Falling back to Bitstream Vera Sans\n",
        "  (prop.get_family(), self.defaultFamily[fontext]))\n",
        "/usr/lib/pymodules/python2.7/matplotlib/font_manager.py:1246: UserWarning: findfont: Could not match :family=Bitstream Vera Sans:style=normal:variant=normal:weight=normal:stretch=normal:size=10.0. Returning /usr/share/matplotlib/mpl-data/fonts/ttf/cmb10.ttf\n",
        "  UserWarning)\n"
       ]
      },
      {
       "metadata": {},
       "output_type": "display_data",
<<<<<<< HEAD
       "png": "iVBORw0KGgoAAAANSUhEUgAAAeUAAAFXCAYAAACcMlYcAAAABHNCSVQICAgIfAhkiAAAAAlwSFlz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\nJEmSpOHw/wEWozeKUdvOtgAAAABJRU5ErkJggg==\n",
       "text": [
        "<matplotlib.figure.Figure at 0x7f986565fed0>"
       ]
      }
     ],
     "prompt_number": 14
=======
       "png": "iVBORw0KGgoAAAANSUhEUgAAAeUAAAFXCAYAAACcMlYcAAAABHNCSVQICAgIfAhkiAAAAAlwSFlz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\nJKk//H/ru/6a6vJVIgAAAABJRU5ErkJggg==\n",
       "text": [
        "<matplotlib.figure.Figure at 0x7f7f59b20f10>"
       ]
      }
     ],
     "prompt_number": 13
>>>>>>> 84f68ed1d18b0df810b82840927c3ca801c5fadb
    },
    {
     "cell_type": "markdown",
     "metadata": {},
     "source": [
      "#### Create a model and fit a linear regression to it"
     ]
    },
    {
     "cell_type": "code",
     "collapsed": false,
     "input": [
      "model = LinearRegression(fit_intercept=True)\n",
      "model.fit(X, y)\n",
      "print (\"Model coefficient: %.5f, and intercept: %.5f\"\n",
      "       % (model.coef_, model.intercept_))\n"
     ],
     "language": "python",
     "metadata": {},
     "outputs": [
      {
       "output_type": "stream",
       "stream": "stdout",
       "text": [
<<<<<<< HEAD
        "Model coefficient: 2.72345, and intercept: 2.55785\n"
       ]
      }
     ],
     "prompt_number": 15
    },
    {
     "cell_type": "code",
     "collapsed": false,
     "input": [
      "import statsmodels.api as sm\n",
      "model = sm.OLS(y,X_big)"
     ],
     "language": "python",
     "metadata": {},
     "outputs": [],
     "prompt_number": 57
    },
    {
     "cell_type": "code",
     "collapsed": false,
     "input": [
      "X=sm.add_constant(X)"
     ],
     "language": "python",
     "metadata": {},
     "outputs": [],
     "prompt_number": 58
    },
    {
     "cell_type": "code",
     "collapsed": false,
     "input": [
      "results = model.fit()"
     ],
     "language": "python",
     "metadata": {},
     "outputs": [],
     "prompt_number": 59
    },
    {
     "cell_type": "code",
     "collapsed": false,
     "input": [
      "print results.summary()"
     ],
     "language": "python",
     "metadata": {},
     "outputs": [
      {
       "output_type": "stream",
       "stream": "stdout",
       "text": [
        "                            OLS Regression Results                            \n",
        "==============================================================================\n",
        "Dep. Variable:                      y   R-squared:                       0.940\n",
        "Model:                            OLS   Adj. R-squared:                  0.925\n",
        "Method:                 Least Squares   F-statistic:                     62.53\n",
        "Date:                Thu, 09 Oct 2014   Prob (F-statistic):           1.45e-09\n",
        "Time:                        00:24:11   Log-Likelihood:                -26.155\n",
        "No. Observations:                  20   AIC:                             60.31\n",
        "Df Residuals:                      16   BIC:                             64.29\n",
        "Df Model:                           4                                         \n",
        "==============================================================================\n",
        "                 coef    std err          t      P>|t|      [95.0% Conf. Int.]\n",
        "------------------------------------------------------------------------------\n",
        "x1            34.1404     13.431      2.542      0.022         5.668    62.612\n",
        "x2          -120.3059     75.972     -1.584      0.133      -281.359    40.747\n",
        "x3           174.0527    134.189      1.297      0.213      -110.415   458.521\n",
        "x4           -85.1719     74.218     -1.148      0.268      -242.506    72.162\n",
        "==============================================================================\n",
        "Omnibus:                        0.438   Durbin-Watson:                   2.839\n",
        "Prob(Omnibus):                  0.803   Jarque-Bera (JB):                0.153\n",
        "Skew:                           0.207   Prob(JB):                        0.926\n",
        "Kurtosis:                       2.891   Cond. No.                         511.\n",
        "==============================================================================\n"
       ]
      }
     ],
     "prompt_number": 60
    },
    {
     "cell_type": "code",
     "collapsed": false,
     "input": [
      "X_big = np.column_stack((X,X**2,X**3,X**4))"
     ],
     "language": "python",
     "metadata": {},
     "outputs": [],
     "prompt_number": 56
    },
    {
     "cell_type": "code",
     "collapsed": false,
     "input": [
      "2*4-26.155*2"
     ],
     "language": "python",
     "metadata": {},
     "outputs": [
      {
       "metadata": {},
       "output_type": "pyout",
       "prompt_number": 61,
       "text": [
        "-44.31"
       ]
      }
     ],
     "prompt_number": 61
=======
        "Model coefficient: 2.09912, and intercept: 1.99034\n"
       ]
      }
     ],
     "prompt_number": 14
>>>>>>> 84f68ed1d18b0df810b82840927c3ca801c5fadb
    },
    {
     "cell_type": "markdown",
     "metadata": {},
     "source": [
      "#### Plot the data and the model prediction\n",
      "1. what does np.linspace do?\n",
      "2. why do we need to reshape it?"
     ]
    },
    {
     "cell_type": "code",
     "collapsed": false,
     "input": [
      "X_test = np.linspace(0, 1, 100).reshape(100,1)\n",
      "y_hat = model.predict(X_test)\n",
      "print X_test.shape\n",
      "print y.shape\n",
      "print X.shape\n",
      "print y_hat.shape"
     ],
     "language": "python",
     "metadata": {},
<<<<<<< HEAD
     "outputs": [],
     "prompt_number": 15
=======
     "outputs": [
      {
       "output_type": "stream",
       "stream": "stdout",
       "text": [
        "(100, 1)\n",
        "(20,)\n",
        "(20, 1)\n",
        "(100,)\n"
       ]
      }
     ],
     "prompt_number": 28
>>>>>>> 84f68ed1d18b0df810b82840927c3ca801c5fadb
    },
    {
     "cell_type": "markdown",
     "metadata": {},
     "source": [
      "#### Plot the train data and regression!"
     ]
    },
    {
     "cell_type": "code",
     "collapsed": false,
     "input": [
      "plt.plot(X, y, 'o')\n",
      "plt.plot(X_test, y_hat)"
     ],
     "language": "python",
     "metadata": {},
     "outputs": [
      {
       "metadata": {},
       "output_type": "pyout",
<<<<<<< HEAD
       "prompt_number": 16,
       "text": [
        "[<matplotlib.lines.Line2D at 0x7f34c5d086d0>]"
=======
       "prompt_number": 29,
       "text": [
        "[<matplotlib.lines.Line2D at 0x7f7f43752fd0>]"
>>>>>>> 84f68ed1d18b0df810b82840927c3ca801c5fadb
       ]
      },
      {
       "metadata": {},
       "output_type": "display_data",
<<<<<<< HEAD
       "png": "iVBORw0KGgoAAAANSUhEUgAAAd4AAAFXCAYAAAAMIS/TAAAABHNCSVQICAgIfAhkiAAAAAlwSFlz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\niIiI7Db/HxjK2Ql9l6raAAAAAElFTkSuQmCC\n",
       "text": [
        "<matplotlib.figure.Figure at 0x7f34ae3049d0>"
       ]
      }
     ],
     "prompt_number": 16
=======
       "png": "iVBORw0KGgoAAAANSUhEUgAAAd4AAAFXCAYAAAAMIS/TAAAABHNCSVQICAgIfAhkiAAAAAlwSFlz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\nrkJggg==\n",
       "text": [
        "<matplotlib.figure.Figure at 0x7f7f43752c90>"
       ]
      }
     ],
     "prompt_number": 29
>>>>>>> 84f68ed1d18b0df810b82840927c3ca801c5fadb
    },
    {
     "cell_type": "code",
     "collapsed": false,
     "input": [],
     "language": "python",
     "metadata": {},
     "outputs": [],
     "prompt_number": 85
    },
    {
     "cell_type": "code",
     "collapsed": false,
     "input": [],
     "language": "python",
     "metadata": {},
     "outputs": []
    }
   ],
   "metadata": {}
  }
 ]
}