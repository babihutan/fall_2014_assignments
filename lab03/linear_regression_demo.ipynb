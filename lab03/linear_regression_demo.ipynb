{
 "metadata": {
  "name": "",
  "signature": "sha256:79dc75fb80d36e6bd7052df73885068c4f82b6ddeb19c3ab6ac6c23adbb44772"
 },
 "nbformat": 3,
 "nbformat_minor": 0,
 "worksheets": [
  {
   "cells": [
    {
     "cell_type": "code",
     "collapsed": false,
     "input": [
      "import pandas as pd\n",
      "import numpy as np\n",
      "import matplotlib.pyplot as plt\n",
      "import seaborn as sns\n",
      "from sklearn.linear_model import LinearRegression\n",
      "from IPython.display import Image"
     ],
     "language": "python",
     "metadata": {},
     "outputs": [],
     "prompt_number": 10
    },
    {
     "cell_type": "markdown",
     "metadata": {},
     "source": [
      "### Steps:\n",
      "\n",
      "1. Create random training data for X and y\n",
      "2. Visualize\n",
      "3. Create sklearn Linear Regression Model and fit training data to it\n",
      "4. Create test input data, plug it into the model, and get predicted values for y (y_hat)\n",
      "5. Visualize"
     ]
    },
    {
     "cell_type": "markdown",
     "metadata": {},
     "source": [
      "#### Create some random data"
     ]
    },
    {
     "cell_type": "code",
     "collapsed": false,
     "input": [
      "np.random.seed(0)"
     ],
     "language": "python",
     "metadata": {},
     "outputs": [],
     "prompt_number": 83
    },
    {
     "cell_type": "code",
     "collapsed": false,
     "input": [
      "# Random data\n",
      "Image(url='http://imgs.xkcd.com/comics/random_number.png')"
     ],
     "language": "python",
     "metadata": {},
     "outputs": [],
     "prompt_number": 85
    },
    {
     "cell_type": "markdown",
     "metadata": {},
     "source": [
      "#### Generate X values"
     ]
    },
    {
     "cell_type": "code",
     "collapsed": false,
     "input": [
      "X = np.random.random(size=(20, 1)) # The size of the input array is expected to be [n_samples, n_features]\n",
      "X"
     ],
     "language": "python",
     "metadata": {},
     "outputs": [
      {
       "metadata": {},
       "output_type": "pyout",
       "prompt_number": 5,
       "text": [
        "array([[ 0.06855819],\n",
        "       [ 0.72330316],\n",
        "       [ 0.71440753],\n",
        "       [ 0.66422195],\n",
        "       [ 0.24684515],\n",
        "       [ 0.24058691],\n",
        "       [ 0.82525291],\n",
        "       [ 0.77846324],\n",
        "       [ 0.9997546 ],\n",
        "       [ 0.70765256],\n",
        "       [ 0.45393685],\n",
        "       [ 0.10912253],\n",
        "       [ 0.4042831 ],\n",
        "       [ 0.9434304 ],\n",
        "       [ 0.44241555],\n",
        "       [ 0.13623994],\n",
        "       [ 0.55594466],\n",
        "       [ 0.78243181],\n",
        "       [ 0.28200758],\n",
        "       [ 0.87597061]])"
       ]
      }
     ],
     "prompt_number": 5
    },
    {
     "cell_type": "code",
     "collapsed": false,
     "input": [
      "print X.shape"
     ],
     "language": "python",
     "metadata": {},
     "outputs": [
      {
       "output_type": "stream",
       "stream": "stdout",
       "text": [
        "(20, 1)\n"
       ]
      }
     ],
     "prompt_number": 6
    },
    {
     "cell_type": "markdown",
     "metadata": {},
     "source": [
      "#### Generate y values\n",
      "1. what does the \"squeeze\" method do?\n",
      "2. why do we include X when we generate y?\n",
      "3. what happens to y when we change the numbers around?"
     ]
    },
    {
     "cell_type": "code",
     "collapsed": false,
     "input": [
      "y = 2 + 3 * X.squeeze() + np.random.normal(size=20)\n",
      "y\n",
      "y.shape"
     ],
     "language": "python",
     "metadata": {},
     "outputs": [
      {
       "metadata": {},
       "output_type": "pyout",
       "prompt_number": 27,
       "text": [
        "(20,)"
       ]
      }
     ],
     "prompt_number": 27
    },
    {
     "cell_type": "markdown",
     "metadata": {},
     "source": [
      "#### Guess the output of each line in the following cell"
     ]
    },
    {
     "cell_type": "code",
     "collapsed": false,
     "input": [
      "example_X = np.random.random(size=(5, 1)) \n",
      "print example_X\n",
      "print example_X.shape\n",
      "print example_X.squeeze()\n",
      "print example_X.flatten()\n",
      "print example_X.reshape(example_X.size)"
     ],
     "language": "python",
     "metadata": {},
     "outputs": [
      {
       "output_type": "stream",
       "stream": "stdout",
       "text": [
        "[[ 0.5701525 ]\n",
        " [ 0.07532263]\n",
        " [ 0.95520722]\n",
        " [ 0.64272518]\n",
        " [ 0.23321053]]\n",
        "(5, 1)\n",
        "[ 0.5701525   0.07532263  0.95520722  0.64272518  0.23321053]\n",
        "[ 0.5701525   0.07532263  0.95520722  0.64272518  0.23321053]\n",
        "[ 0.5701525   0.07532263  0.95520722  0.64272518  0.23321053]\n"
       ]
      }
     ],
     "prompt_number": 32
    },
    {
     "cell_type": "code",
     "collapsed": false,
     "input": [
      "# Visualize this training dataset\n",
      "plt.plot(X,y,'o')"
     ],
     "language": "python",
     "metadata": {},
     "outputs": [
      {
       "metadata": {},
       "output_type": "pyout",
       "prompt_number": 13,
       "text": [
        "[<matplotlib.lines.Line2D at 0x7f7f438136d0>]"
       ]
      },
      {
       "output_type": "stream",
       "stream": "stderr",
       "text": [
        "/usr/lib/pymodules/python2.7/matplotlib/font_manager.py:1236: UserWarning: findfont: Font family ['sans-serif'] not found. Falling back to Bitstream Vera Sans\n",
        "  (prop.get_family(), self.defaultFamily[fontext]))\n",
        "/usr/lib/pymodules/python2.7/matplotlib/font_manager.py:1246: UserWarning: findfont: Could not match :family=Bitstream Vera Sans:style=normal:variant=normal:weight=normal:stretch=normal:size=10.0. Returning /usr/share/matplotlib/mpl-data/fonts/ttf/cmb10.ttf\n",
        "  UserWarning)\n"
       ]
      },
      {
       "metadata": {},
       "output_type": "display_data",
       "png": "[encoded data removed]",
       "text": [
        "<matplotlib.figure.Figure at 0x7f7f59b20f10>"
       ]
      }
     ],
     "prompt_number": 13
    },
    {
     "cell_type": "markdown",
     "metadata": {},
     "source": [
      "#### Create a model and fit a linear regression to it"
     ]
    },
    {
     "cell_type": "code",
     "collapsed": false,
     "input": [
      "model = LinearRegression(fit_intercept=True)\n",
      "model.fit(X, y)\n",
      "print (\"Model coefficient: %.5f, and intercept: %.5f\"\n",
      "       % (model.coef_, model.intercept_))\n"
     ],
     "language": "python",
     "metadata": {},
     "outputs": [
      {
       "output_type": "stream",
       "stream": "stdout",
       "text": [
        "Model coefficient: 2.09912, and intercept: 1.99034\n"
       ]
      }
     ],
     "prompt_number": 14
    },
    {
     "cell_type": "markdown",
     "metadata": {},
     "source": [
      "#### Plot the data and the model prediction\n",
      "1. what does np.linspace do?\n",
      "2. why do we need to reshape it?"
     ]
    },
    {
     "cell_type": "code",
     "collapsed": false,
     "input": [
      "X_test = np.linspace(0, 1, 100).reshape(100,1)\n",
      "y_hat = model.predict(X_test)\n",
      "print X_test.shape\n",
      "print y.shape\n",
      "print X.shape\n",
      "print y_hat.shape"
     ],
     "language": "python",
     "metadata": {},
     "outputs": [
      {
       "output_type": "stream",
       "stream": "stdout",
       "text": [
        "(100, 1)\n",
        "(20,)\n",
        "(20, 1)\n",
        "(100,)\n"
       ]
      }
     ],
     "prompt_number": 28
    },
    {
     "cell_type": "markdown",
     "metadata": {},
     "source": [
      "#### Plot the train data and regression!"
     ]
    },
    {
     "cell_type": "code",
     "collapsed": false,
     "input": [
      "plt.plot(X, y, 'o')\n",
      "plt.plot(X_test, y_hat)"
     ],
     "language": "python",
     "metadata": {},
     "outputs": [
      {
       "metadata": {},
       "output_type": "pyout",
       "prompt_number": 29,
       "text": [
        "[<matplotlib.lines.Line2D at 0x7f7f43752fd0>]"
       ]
      },
      {
       "metadata": {},
       "output_type": "display_data",
       "png": "[encoded data removed]",
       "text": [
        "<matplotlib.figure.Figure at 0x7f7f43752c90>"
       ]
      }
     ],
     "prompt_number": 29
    },
    {
     "cell_type": "code",
     "collapsed": false,
     "input": [],
     "language": "python",
     "metadata": {},
     "outputs": [],
     "prompt_number": 85
    },
    {
     "cell_type": "code",
     "collapsed": false,
     "input": [],
     "language": "python",
     "metadata": {},
     "outputs": []
    }
   ],
   "metadata": {}
  }
 ]
}