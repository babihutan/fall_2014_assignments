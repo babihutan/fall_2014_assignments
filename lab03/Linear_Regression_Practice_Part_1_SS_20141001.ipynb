{
 "metadata": {
  "name": "",
  "signature": "sha256:29277881317c016aca0057979388a797c41dea87122211b0b6dff3117339b70e"
 },
 "nbformat": 3,
 "nbformat_minor": 0,
 "worksheets": [
  {
   "cells": [
    {
     "cell_type": "code",
     "collapsed": false,
     "input": [
      "# This is for recreating the linear regression example in class"
     ],
     "language": "python",
     "metadata": {},
     "outputs": [],
     "prompt_number": 1
    },
    {
     "cell_type": "code",
     "collapsed": false,
     "input": [
      "import pandas as pd\n",
      "import numpy as nop\n",
      "import matplotlib.pyplot as plt\n",
      "import seaborn as sns\n",
      "from sklearn.linear_model import LinearRegression\n",
      "from IPython.display import Image"
     ],
     "language": "python",
     "metadata": {},
     "outputs": [],
     "prompt_number": 2
    },
    {
     "cell_type": "code",
     "collapsed": false,
     "input": [
      "### 1. Create random training data for X and Y"
     ],
     "language": "python",
     "metadata": {},
     "outputs": [],
     "prompt_number": 4
    },
    {
     "cell_type": "code",
     "collapsed": false,
     "input": [
      "np.random.seed(0)\n",
      "Image(url = 'http://imgs.xkcd.com/comics/random_number.png')"
     ],
     "language": "python",
     "metadata": {},
     "outputs": [
      {
       "html": [
        "<img src=\"http://imgs.xkcd.com/comics/random_number.png\"/>"
       ],
       "metadata": {},
       "output_type": "pyout",
       "prompt_number": 5,
       "text": [
        "<IPython.core.display.Image at 0x7f199283aa90>"
       ]
      }
     ],
     "prompt_number": 5
    },
    {
     "cell_type": "code",
     "collapsed": false,
     "input": [
      "## Generate X Values\n",
      "\n",
      "X = np.random.random(size = (20,1))\n",
      "# the size of the input array is expected to be [n_samples, n_features]\n",
      "print X.shape, X.size, len(X)"
     ],
     "language": "python",
     "metadata": {},
     "outputs": [
      {
       "output_type": "stream",
       "stream": "stdout",
       "text": [
        " (20, 1) 20 20\n"
       ]
      }
     ],
     "prompt_number": 17
    },
    {
     "cell_type": "code",
     "collapsed": false,
     "input": [
      "## Generate Y Values\n",
      "\n",
      "y = 2 + 3 * X.squeeze() + np.random.normal(size = 20)\n",
      "# print y.shape, y.size, len(y), y.squeeze()\n",
      "\n",
      "X.squeeze()\n",
      "# Remove single-dimensional entries from the shape of an array\n",
      "\n",
      "print y"
     ],
     "language": "python",
     "metadata": {},
     "outputs": [
      {
       "output_type": "stream",
       "stream": "stdout",
       "text": [
        "[ 1.76848509  2.48107125  2.14874737  3.32405784  3.61378274  3.33508151\n",
        "  3.01058437  3.71716263  2.25408628  3.12461358  3.71855421  2.71795333\n",
        "  2.24769285  4.93051734  4.61769873  0.69878367  4.63815619  3.15316277\n",
        "  1.5216789   2.9122965 ]\n"
       ]
      }
     ],
     "prompt_number": 23
    },
    {
     "cell_type": "code",
     "collapsed": false,
     "input": [
      "## Guess the output of each line in the following cell\n",
      "\n",
      "#np.random.random() generates Uniform Distribution ~ (0,1)\n",
      "example_X = np.random.random(size = (5,1))\n",
      "print example_X\n",
      "\n",
      "# np.random?\n",
      "# can do random generation for various distributions\n",
      "\n",
      "## These are basically different ways to do the same thingV\n",
      "# print example_X.shape\n",
      "# print example_X.squeeze()\n",
      "# print example_X.flatten()\n",
      "# print example_X.reshape(example_X.size)"
     ],
     "language": "python",
     "metadata": {},
     "outputs": [
      {
       "output_type": "stream",
       "stream": "stdout",
       "text": [
        "[[ 0.25194099]\n",
        " [ 0.22116092]\n",
        " [ 0.25319119]\n",
        " [ 0.13105523]\n",
        " [ 0.01203622]]\n"
       ]
      }
     ],
     "prompt_number": 42
    },
    {
     "cell_type": "code",
     "collapsed": false,
     "input": [
      "# Visualize this training dataset.  The errors are font issues\n",
      "plt.plot(X,y,'o')"
     ],
     "language": "python",
     "metadata": {},
     "outputs": [
      {
       "metadata": {},
       "output_type": "pyout",
       "prompt_number": 35,
       "text": [
        "[<matplotlib.lines.Line2D at 0x7f1991df2a90>]"
       ]
      },
      {
       "output_type": "stream",
       "stream": "stderr",
       "text": [
        "/usr/lib/pymodules/python2.7/matplotlib/font_manager.py:1236: UserWarning: findfont: Font family ['sans-serif'] not found. Falling back to Bitstream Vera Sans\n",
        "  (prop.get_family(), self.defaultFamily[fontext]))\n",
        "/usr/lib/pymodules/python2.7/matplotlib/font_manager.py:1246: UserWarning: findfont: Could not match :family=Bitstream Vera Sans:style=normal:variant=normal:weight=normal:stretch=normal:size=10.0. Returning /usr/share/matplotlib/mpl-data/fonts/ttf/cmb10.ttf\n",
        "  UserWarning)\n"
       ]
      },
      {
       "metadata": {},
       "output_type": "display_data",
       "png": "[encoded data removed]",
       "text": [
        "<matplotlib.figure.Figure at 0x7f1991f62dd0>"
       ]
      }
     ],
     "prompt_number": 35
    },
    {
     "cell_type": "code",
     "collapsed": false,
     "input": [
      "# Create a model and fit linear regression to it\n",
      "\n",
      "model = LinearRegression(fit_intercept = True)\n",
      "# if fit_intercept = False, then no intercept\n",
      "\n",
      "model.fit(X, y)\n",
      "\n",
      "print (\"Model coefficient: %.5f, and intercept: %.5f\" \n",
      "       % (model.coef_, model.intercept_))"
     ],
     "language": "python",
     "metadata": {},
     "outputs": [
      {
       "output_type": "stream",
       "stream": "stdout",
       "text": [
        "Model coefficient: 1.63892, and intercept: 2.23790\n"
       ]
      }
     ],
     "prompt_number": 36
    },
    {
     "cell_type": "code",
     "collapsed": false,
     "input": [
      "#Plot the data and the model prediction\n",
      "# 1. what does np.linspace do?\n",
      "# 2. why do we need to reshape it?\n",
      "\n",
      "X_test = np.linspace(0, 1, 100).reshape(100, 1)\n",
      "# numpy.linspace(start, stop, num=50, endpoint=True, retstep=False)[source]\n",
      "# Return evenly spaced numbers over a specified interval.\n",
      "# in this case, generate 100 data points evenly spaced between values 0 and 1\n",
      "# reshape so it can be plugged into the model\n",
      "\n",
      "# print X_test\n",
      "\n",
      "y_hat = model.predict(X_test)\n",
      "# this fits X_test into the model, and calculated the predicted Y\n",
      "\n",
      "# print y_hat"
     ],
     "language": "python",
     "metadata": {},
     "outputs": [],
     "prompt_number": 40
    },
    {
     "cell_type": "code",
     "collapsed": false,
     "input": [
      "\n",
      "#Plot the training data and regression\n",
      "\n",
      "plt.plot(X, y, 'o')\n",
      "plt.plot(X_test, y_hat)"
     ],
     "language": "python",
     "metadata": {},
     "outputs": [
      {
       "metadata": {},
       "output_type": "pyout",
       "prompt_number": 41,
       "text": [
        "[<matplotlib.lines.Line2D at 0x7f1991c89f90>]"
       ]
      },
      {
       "metadata": {},
       "output_type": "display_data",
       "png": "[encoded data removed]",
       "text": [
        "<matplotlib.figure.Figure at 0x7f199283abd0>"
       ]
      }
     ],
     "prompt_number": 41
    },
    {
     "cell_type": "code",
     "collapsed": false,
     "input": [],
     "language": "python",
     "metadata": {},
     "outputs": []
    }
   ],
   "metadata": {}
  }
 ]
}