{
 "metadata": {
  "name": "",
  "signature": "sha256:d3132e30fcaa1b1e252aebf203f1738274a9e6f3180a74ab0d95cdf77be18e74"
 },
 "nbformat": 3,
 "nbformat_minor": 0,
 "worksheets": [
  {
   "cells": [
    {
     "cell_type": "code",
     "collapsed": false,
     "input": [
      "import pandas as pd\n",
      "import numpy as np\n",
      "import matplotlib.pyplot as plt\n",
      "from sklearn.linear_model import LinearRegression, Ridge, Lasso\n",
      "from sklearn import cross_validation\n",
      "from sklearn.cross_validation import KFold\n",
      "from sklearn.cross_validation import train_test_split\n",
      "from sklearn.cross_validation import cross_val_score\n",
      "from sklearn.metrics import mean_squared_error"
     ],
     "language": "python",
     "metadata": {},
     "outputs": [],
     "prompt_number": 1
    },
    {
     "cell_type": "code",
     "collapsed": false,
     "input": [
      "df = pd.read_csv('C:/Users/Robert/Desktop/fall_2014_assignments/dataexplor02/africa_ph.csv')\n",
      "predictors = ['ELEV', 'REF2', 'BSAN', 'LSTN', 'Infrared01', 'Infrared02', 'Infrared03', 'Infrared04', 'Infrared05']"
     ],
     "language": "python",
     "metadata": {},
     "outputs": [],
     "prompt_number": 3
    },
    {
     "cell_type": "markdown",
     "metadata": {},
     "source": [
      "### K-fold Cross-validation example"
     ]
    },
    {
     "cell_type": "code",
     "collapsed": false,
     "input": [
      "cv_errors = []\n",
      "for ncols in range(2, 6):\n",
      "    # each ncol corresponds to a polynomial model\n",
      "    X = df[predictors[0:ncols]].values\n",
      "    y = df[\"pH\"].values\n",
      "    kfold = KFold(len(df), n_folds=10)\n",
      "    mses = []\n",
      "    \n",
      "    for train, test in kfold:\n",
      "        # each model is cross validated 10 times\n",
      "        Xtrain, ytrain, Xtest, ytest = X[train], y[train], X[test], y[test]   \n",
      "        model = LinearRegression()\n",
      "        model.fit(X, y)\n",
      "        ypred = model.predict(Xtest)\n",
      "        mses.append(mean_squared_error(ypred, ytest))\n",
      "        #print np.mean(mses)\n",
      "    cv_errors.append(np.mean(mses))\n",
      "    print predictors[0:ncols], cv_errors\n",
      "plt.plot(range(1,5), cv_errors)\n",
      "plt.xlabel(\"degree\")\n",
      "plt.ylabel(\"cv.error\")"
     ],
     "language": "python",
     "metadata": {},
     "outputs": [
      {
       "output_type": "stream",
       "stream": "stdout",
       "text": [
        "['ELEV', 'REF2'] [0.84397931400262904]\n",
        "['ELEV', 'REF2', 'BSAN'] [0.84397931400262904, 0.56877673083070901]\n",
        "['ELEV', 'REF2', 'BSAN', 'LSTN'] [0.84397931400262904, 0.56877673083070901, 0.56837847475869097]\n",
        "['ELEV', 'REF2', 'BSAN', 'LSTN', 'Infrared01'] [0.84397931400262904, 0.56877673083070901, 0.56837847475869097, 0.5558460404787795]\n"
       ]
      },
      {
       "metadata": {},
       "output_type": "pyout",
       "prompt_number": 11,
       "text": [
        "<matplotlib.text.Text at 0x16305160>"
       ]
      }
     ],
     "prompt_number": 11
    },
    {
     "cell_type": "code",
     "collapsed": false,
     "input": [
      "plt.show()"
     ],
     "language": "python",
     "metadata": {},
     "outputs": [],
     "prompt_number": 7
    },
    {
     "cell_type": "code",
     "collapsed": false,
     "input": [
      "model1 = LinearRegression(fit_intercept=True)\n",
      "model2 = Ridge()\n",
      "model3 = Lasso()"
     ],
     "language": "python",
     "metadata": {},
     "outputs": [],
     "prompt_number": 30
    },
    {
     "cell_type": "code",
     "collapsed": false,
     "input": [
      "#train_df, test_df = train_test_split(df, test_size = 0.2)\n",
      "score1 = cross_val_score(model1, df[predictors], df['pH'], n_jobs=5).mean()\n",
      "score2 = cross_val_score(model2, df[predictors], df['pH'], n_jobs=5).mean()\n",
      "score3 = cross_val_score(model3, df[predictors], df['pH'], n_jobs=5).mean()\n",
      "print score1, score2, score3"
     ],
     "language": "python",
     "metadata": {},
     "outputs": [
      {
       "output_type": "stream",
       "stream": "stdout",
       "text": [
        "0.131373269833 0.0281005913935 -0.0603715300621\n"
       ]
      }
     ],
     "prompt_number": 31
    },
    {
     "cell_type": "code",
     "collapsed": false,
     "input": [],
     "language": "python",
     "metadata": {},
     "outputs": []
    }
   ],
   "metadata": {}
  }
 ]
}