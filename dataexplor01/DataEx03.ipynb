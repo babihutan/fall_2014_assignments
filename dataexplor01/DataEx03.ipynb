{
 "metadata": {
  "name": "",
  "signature": "sha256:62d8692eaeefa146f9d47fb1adc1648ecfa495832319a810e97bebe2fcd925a9"
 },
 "nbformat": 3,
 "nbformat_minor": 0,
 "worksheets": [
  {
   "cells": [
    {
     "cell_type": "code",
     "collapsed": false,
     "input": [
      "import pandas as pd\n",
      "import numpy as np\n",
      "import matplotlib.pyplot as plt\n",
      "from sklearn.linear_model import LinearRegression\n",
      "from sklearn import cross_validation\n",
      "from sklearn.cross_validation import KFold\n",
      "from sklearn.cross_validation import train_test_split\n",
      "from sklearn.cross_validation import cross_val_score\n",
      "from sklearn.metrics import mean_squared_error"
     ],
     "language": "python",
     "metadata": {},
     "outputs": [],
     "prompt_number": 204
    },
    {
     "cell_type": "code",
     "collapsed": false,
     "input": [
      "csv_file='C:/Users/Robert/Desktop/fall_2014_assignments/dataexplor03/SuperHappyFunDataSet.csv'"
     ],
     "language": "python",
     "metadata": {},
     "outputs": [],
     "prompt_number": 205
    },
    {
     "cell_type": "code",
     "collapsed": false,
     "input": [
      "data=pd.read_csv(csv_file, header=0)"
     ],
     "language": "python",
     "metadata": {},
     "outputs": [],
     "prompt_number": 206
    },
    {
     "cell_type": "code",
     "collapsed": false,
     "input": [
      "for i in data:\n",
      "    if 'date' in i:\n",
      "        data[i]=pd.to_datetime(data[i])"
     ],
     "language": "python",
     "metadata": {},
     "outputs": [],
     "prompt_number": 207
    },
    {
     "cell_type": "code",
     "collapsed": false,
     "input": [
      "data.head()"
     ],
     "language": "python",
     "metadata": {},
     "outputs": [
      {
       "html": [
        "<div style=\"max-height:1000px;max-width:1500px;overflow:auto;\">\n",
        "<table border=\"1\" class=\"dataframe\">\n",
        "  <thead>\n",
        "    <tr style=\"text-align: right;\">\n",
        "      <th></th>\n",
        "      <th>LIBOR_date</th>\n",
        "      <th>LIBOR_price</th>\n",
        "      <th>OIS_date</th>\n",
        "      <th>OIS_price</th>\n",
        "      <th>Oil_date</th>\n",
        "      <th>Oil_price</th>\n",
        "      <th>US_equity_index_date</th>\n",
        "      <th>US_equity_index</th>\n",
        "      <th>US10Y_date</th>\n",
        "      <th>US10Y_yield</th>\n",
        "      <th>USD_trade_weighted_date</th>\n",
        "      <th>USD_trade_weighted_index</th>\n",
        "    </tr>\n",
        "  </thead>\n",
        "  <tbody>\n",
        "    <tr>\n",
        "      <th>0</th>\n",
        "      <td>2003-01-02</td>\n",
        "      <td> 1.38000</td>\n",
        "      <td>2003-01-01</td>\n",
        "      <td> 1.231</td>\n",
        "      <td>2003-01-02</td>\n",
        "      <td> 31.85</td>\n",
        "      <td>2003-01-02</td>\n",
        "      <td> 909.03</td>\n",
        "      <td>2003-01-01</td>\n",
        "      <td> 3.8175</td>\n",
        "      <td>2003-01-02</td>\n",
        "      <td> 101.88</td>\n",
        "    </tr>\n",
        "    <tr>\n",
        "      <th>1</th>\n",
        "      <td>2003-01-03</td>\n",
        "      <td> 1.39000</td>\n",
        "      <td>2003-01-02</td>\n",
        "      <td> 1.226</td>\n",
        "      <td>2003-01-03</td>\n",
        "      <td> 33.08</td>\n",
        "      <td>2003-01-03</td>\n",
        "      <td> 908.59</td>\n",
        "      <td>2003-01-02</td>\n",
        "      <td> 4.0305</td>\n",
        "      <td>2003-01-03</td>\n",
        "      <td> 101.69</td>\n",
        "    </tr>\n",
        "    <tr>\n",
        "      <th>2</th>\n",
        "      <td>2003-01-06</td>\n",
        "      <td> 1.38875</td>\n",
        "      <td>2003-01-03</td>\n",
        "      <td> 1.234</td>\n",
        "      <td>2003-01-06</td>\n",
        "      <td> 32.10</td>\n",
        "      <td>2003-01-06</td>\n",
        "      <td> 929.01</td>\n",
        "      <td>2003-01-03</td>\n",
        "      <td> 4.0169</td>\n",
        "      <td>2003-01-06</td>\n",
        "      <td> 101.36</td>\n",
        "    </tr>\n",
        "    <tr>\n",
        "      <th>3</th>\n",
        "      <td>2003-01-07</td>\n",
        "      <td> 1.38750</td>\n",
        "      <td>2003-01-06</td>\n",
        "      <td> 1.237</td>\n",
        "      <td>2003-01-07</td>\n",
        "      <td> 31.08</td>\n",
        "      <td>2003-01-07</td>\n",
        "      <td> 922.93</td>\n",
        "      <td>2003-01-06</td>\n",
        "      <td> 4.0518</td>\n",
        "      <td>2003-01-07</td>\n",
        "      <td> 101.45</td>\n",
        "    </tr>\n",
        "    <tr>\n",
        "      <th>4</th>\n",
        "      <td>2003-01-08</td>\n",
        "      <td> 1.38000</td>\n",
        "      <td>2003-01-07</td>\n",
        "      <td> 1.234</td>\n",
        "      <td>2003-01-08</td>\n",
        "      <td> 30.56</td>\n",
        "      <td>2003-01-08</td>\n",
        "      <td> 909.93</td>\n",
        "      <td>2003-01-07</td>\n",
        "      <td> 4.0053</td>\n",
        "      <td>2003-01-08</td>\n",
        "      <td> 101.34</td>\n",
        "    </tr>\n",
        "  </tbody>\n",
        "</table>\n",
        "</div>"
       ],
       "metadata": {},
       "output_type": "pyout",
       "prompt_number": 208,
       "text": [
        "  LIBOR_date  LIBOR_price   OIS_date  OIS_price   Oil_date  Oil_price  \\\n",
        "0 2003-01-02      1.38000 2003-01-01      1.231 2003-01-02      31.85   \n",
        "1 2003-01-03      1.39000 2003-01-02      1.226 2003-01-03      33.08   \n",
        "2 2003-01-06      1.38875 2003-01-03      1.234 2003-01-06      32.10   \n",
        "3 2003-01-07      1.38750 2003-01-06      1.237 2003-01-07      31.08   \n",
        "4 2003-01-08      1.38000 2003-01-07      1.234 2003-01-08      30.56   \n",
        "\n",
        "  US_equity_index_date  US_equity_index US10Y_date  US10Y_yield  \\\n",
        "0           2003-01-02           909.03 2003-01-01       3.8175   \n",
        "1           2003-01-03           908.59 2003-01-02       4.0305   \n",
        "2           2003-01-06           929.01 2003-01-03       4.0169   \n",
        "3           2003-01-07           922.93 2003-01-06       4.0518   \n",
        "4           2003-01-08           909.93 2003-01-07       4.0053   \n",
        "\n",
        "  USD_trade_weighted_date  USD_trade_weighted_index  \n",
        "0              2003-01-02                    101.88  \n",
        "1              2003-01-03                    101.69  \n",
        "2              2003-01-06                    101.36  \n",
        "3              2003-01-07                    101.45  \n",
        "4              2003-01-08                    101.34  "
       ]
      }
     ],
     "prompt_number": 208
    },
    {
     "cell_type": "code",
     "collapsed": false,
     "input": [
      "dct={}\n",
      "for i in range(len(data.columns)-1):\n",
      "    name1=data.columns[i].split('_')\n",
      "    name2=data.columns[i+1].split('_')\n",
      "    if name1[0]==name2[0]:\n",
      "        d=data[data.columns[i+1]].dropna()\n",
      "        dates=list(data[data.columns[i]].dropna())\n",
      "        d.index=dates\n",
      "        dct[name1[0]]=d\n",
      "        \n",
      "        "
     ],
     "language": "python",
     "metadata": {},
     "outputs": [],
     "prompt_number": 209
    },
    {
     "cell_type": "code",
     "collapsed": false,
     "input": [
      "dates=list(data.OIS_date)"
     ],
     "language": "python",
     "metadata": {},
     "outputs": [],
     "prompt_number": 210
    },
    {
     "cell_type": "code",
     "collapsed": false,
     "input": [
      "df=pd.DataFrame(dct,index=dates)"
     ],
     "language": "python",
     "metadata": {},
     "outputs": [],
     "prompt_number": 211
    },
    {
     "cell_type": "code",
     "collapsed": false,
     "input": [
      "df=df.dropna()"
     ],
     "language": "python",
     "metadata": {},
     "outputs": [],
     "prompt_number": 212
    },
    {
     "cell_type": "code",
     "collapsed": false,
     "input": [
      "oil_corr=lambda x: x.corrwith(x['Oil'])"
     ],
     "language": "python",
     "metadata": {},
     "outputs": [],
     "prompt_number": 213
    },
    {
     "cell_type": "code",
     "collapsed": false,
     "input": [
      "by_year=df.groupby(lambda x: x.year)"
     ],
     "language": "python",
     "metadata": {},
     "outputs": [],
     "prompt_number": 214
    },
    {
     "cell_type": "code",
     "collapsed": false,
     "input": [
      "by_year.apply(oil_corr)"
     ],
     "language": "python",
     "metadata": {},
     "outputs": [
      {
       "html": [
        "<div style=\"max-height:1000px;max-width:1500px;overflow:auto;\">\n",
        "<table border=\"1\" class=\"dataframe\">\n",
        "  <thead>\n",
        "    <tr style=\"text-align: right;\">\n",
        "      <th></th>\n",
        "      <th>LIBOR</th>\n",
        "      <th>OIS</th>\n",
        "      <th>Oil</th>\n",
        "      <th>US</th>\n",
        "      <th>US10Y</th>\n",
        "      <th>USD</th>\n",
        "    </tr>\n",
        "  </thead>\n",
        "  <tbody>\n",
        "    <tr>\n",
        "      <th>2003</th>\n",
        "      <td> 0.261261</td>\n",
        "      <td> 0.231188</td>\n",
        "      <td> 1</td>\n",
        "      <td>-0.341612</td>\n",
        "      <td>-0.035738</td>\n",
        "      <td> 0.251254</td>\n",
        "    </tr>\n",
        "    <tr>\n",
        "      <th>2004</th>\n",
        "      <td> 0.797322</td>\n",
        "      <td> 0.804679</td>\n",
        "      <td> 1</td>\n",
        "      <td>-0.048176</td>\n",
        "      <td>-0.075290</td>\n",
        "      <td>-0.260500</td>\n",
        "    </tr>\n",
        "    <tr>\n",
        "      <th>2005</th>\n",
        "      <td> 0.750044</td>\n",
        "      <td> 0.758491</td>\n",
        "      <td> 1</td>\n",
        "      <td> 0.509683</td>\n",
        "      <td> 0.215348</td>\n",
        "      <td> 0.477459</td>\n",
        "    </tr>\n",
        "    <tr>\n",
        "      <th>2006</th>\n",
        "      <td> 0.235659</td>\n",
        "      <td> 0.252830</td>\n",
        "      <td> 1</td>\n",
        "      <td>-0.635038</td>\n",
        "      <td> 0.721861</td>\n",
        "      <td>-0.221289</td>\n",
        "    </tr>\n",
        "    <tr>\n",
        "      <th>2007</th>\n",
        "      <td>-0.656139</td>\n",
        "      <td>-0.898608</td>\n",
        "      <td> 1</td>\n",
        "      <td> 0.387876</td>\n",
        "      <td>-0.625488</td>\n",
        "      <td>-0.975625</td>\n",
        "    </tr>\n",
        "    <tr>\n",
        "      <th>2008</th>\n",
        "      <td> 0.183514</td>\n",
        "      <td> 0.630860</td>\n",
        "      <td> 1</td>\n",
        "      <td> 0.807477</td>\n",
        "      <td> 0.754365</td>\n",
        "      <td>-0.888434</td>\n",
        "    </tr>\n",
        "    <tr>\n",
        "      <th>2009</th>\n",
        "      <td>-0.935177</td>\n",
        "      <td>-0.713738</td>\n",
        "      <td> 1</td>\n",
        "      <td> 0.871468</td>\n",
        "      <td> 0.829193</td>\n",
        "      <td>-0.910698</td>\n",
        "    </tr>\n",
        "    <tr>\n",
        "      <th>2010</th>\n",
        "      <td>-0.430844</td>\n",
        "      <td>-0.089288</td>\n",
        "      <td> 1</td>\n",
        "      <td> 0.881816</td>\n",
        "      <td> 0.128409</td>\n",
        "      <td>-0.733041</td>\n",
        "    </tr>\n",
        "    <tr>\n",
        "      <th>2011</th>\n",
        "      <td>-0.081029</td>\n",
        "      <td> 0.147245</td>\n",
        "      <td> 1</td>\n",
        "      <td> 0.668125</td>\n",
        "      <td> 0.430496</td>\n",
        "      <td>-0.290996</td>\n",
        "    </tr>\n",
        "    <tr>\n",
        "      <th>2012</th>\n",
        "      <td> 0.425097</td>\n",
        "      <td>-0.570182</td>\n",
        "      <td> 1</td>\n",
        "      <td> 0.034166</td>\n",
        "      <td> 0.833464</td>\n",
        "      <td>-0.534152</td>\n",
        "    </tr>\n",
        "  </tbody>\n",
        "</table>\n",
        "</div>"
       ],
       "metadata": {},
       "output_type": "pyout",
       "prompt_number": 215,
       "text": [
        "         LIBOR       OIS  Oil        US     US10Y       USD\n",
        "2003  0.261261  0.231188    1 -0.341612 -0.035738  0.251254\n",
        "2004  0.797322  0.804679    1 -0.048176 -0.075290 -0.260500\n",
        "2005  0.750044  0.758491    1  0.509683  0.215348  0.477459\n",
        "2006  0.235659  0.252830    1 -0.635038  0.721861 -0.221289\n",
        "2007 -0.656139 -0.898608    1  0.387876 -0.625488 -0.975625\n",
        "2008  0.183514  0.630860    1  0.807477  0.754365 -0.888434\n",
        "2009 -0.935177 -0.713738    1  0.871468  0.829193 -0.910698\n",
        "2010 -0.430844 -0.089288    1  0.881816  0.128409 -0.733041\n",
        "2011 -0.081029  0.147245    1  0.668125  0.430496 -0.290996\n",
        "2012  0.425097 -0.570182    1  0.034166  0.833464 -0.534152"
       ]
      }
     ],
     "prompt_number": 215
    },
    {
     "cell_type": "code",
     "collapsed": false,
     "input": [
      "df['2012'].Oil.describe()"
     ],
     "language": "python",
     "metadata": {},
     "outputs": [
      {
       "metadata": {},
       "output_type": "pyout",
       "prompt_number": 216,
       "text": [
        "count    190.000000\n",
        "mean      96.372263\n",
        "std        7.158792\n",
        "min       79.210000\n",
        "25%       91.410000\n",
        "50%       96.445000\n",
        "75%      102.692500\n",
        "max      109.770000\n",
        "dtype: float64"
       ]
      }
     ],
     "prompt_number": 216
    },
    {
     "cell_type": "code",
     "collapsed": false,
     "input": [
      "by_year"
     ],
     "language": "python",
     "metadata": {},
     "outputs": [
      {
       "metadata": {},
       "output_type": "pyout",
       "prompt_number": 217,
       "text": [
        "<pandas.core.groupby.DataFrameGroupBy object at 0x000000001123B400>"
       ]
      }
     ],
     "prompt_number": 217
    },
    {
     "cell_type": "code",
     "collapsed": false,
     "input": [
      "figures, axes=plt.subplots(2,5)"
     ],
     "language": "python",
     "metadata": {},
     "outputs": [],
     "prompt_number": 218
    },
    {
     "cell_type": "code",
     "collapsed": false,
     "input": [
      "counter=2003\n",
      "for j in range(2):\n",
      "    for k in range(5):\n",
      "        if counter <=2012:\n",
      "            x=df[str(counter)].Oil\n",
      "            y=df[str(counter)].US10Y\n",
      "            axes[j,k].scatter(x,y)\n",
      "            counter+=1"
     ],
     "language": "python",
     "metadata": {},
     "outputs": [],
     "prompt_number": 219
    },
    {
     "cell_type": "code",
     "collapsed": false,
     "input": [
      "plt.show()"
     ],
     "language": "python",
     "metadata": {},
     "outputs": [],
     "prompt_number": 220
    },
    {
     "cell_type": "code",
     "collapsed": false,
     "input": [
      "model=LinearRegression()"
     ],
     "language": "python",
     "metadata": {},
     "outputs": [],
     "prompt_number": 221
    },
    {
     "cell_type": "code",
     "collapsed": false,
     "input": [
      "model"
     ],
     "language": "python",
     "metadata": {},
     "outputs": [
      {
       "metadata": {},
       "output_type": "pyout",
       "prompt_number": 222,
       "text": [
        "LinearRegression(copy_X=True, fit_intercept=True, normalize=False)"
       ]
      }
     ],
     "prompt_number": 222
    },
    {
     "cell_type": "code",
     "collapsed": false,
     "input": [
      "x=np.asarray(x).reshape(190,1)"
     ],
     "language": "python",
     "metadata": {},
     "outputs": [],
     "prompt_number": 223
    },
    {
     "cell_type": "code",
     "collapsed": false,
     "input": [
      "y=np.asarray(y).reshape(190,1)"
     ],
     "language": "python",
     "metadata": {},
     "outputs": [],
     "prompt_number": 224
    },
    {
     "cell_type": "code",
     "collapsed": false,
     "input": [
      "model.fit(x,y)"
     ],
     "language": "python",
     "metadata": {},
     "outputs": [
      {
       "metadata": {},
       "output_type": "pyout",
       "prompt_number": 225,
       "text": [
        "LinearRegression(copy_X=True, fit_intercept=True, normalize=False)"
       ]
      }
     ],
     "prompt_number": 225
    },
    {
     "cell_type": "code",
     "collapsed": false,
     "input": [
      "x_test=np.linspace(79,115,5).reshape(5,1)\n",
      "y_hat=model.predict(x_test)"
     ],
     "language": "python",
     "metadata": {},
     "outputs": [],
     "prompt_number": 226
    },
    {
     "cell_type": "code",
     "collapsed": false,
     "input": [
      "x=df['2012'].Oil\n",
      "y=df['2012'].US10Y\n",
      "plt.scatter(x,y)\n",
      "plt.plot(x_test,y_hat)"
     ],
     "language": "python",
     "metadata": {},
     "outputs": [
      {
       "metadata": {},
       "output_type": "pyout",
       "prompt_number": 227,
       "text": [
        "[<matplotlib.lines.Line2D at 0x269e3748>]"
       ]
      }
     ],
     "prompt_number": 227
    },
    {
     "cell_type": "code",
     "collapsed": false,
     "input": [
      "model.coef_"
     ],
     "language": "python",
     "metadata": {},
     "outputs": [
      {
       "metadata": {},
       "output_type": "pyout",
       "prompt_number": 237,
       "text": [
        "array([[ 0.02531315]])"
       ]
      }
     ],
     "prompt_number": 237
    },
    {
     "cell_type": "code",
     "collapsed": false,
     "input": [
      "model.coef_*11"
     ],
     "language": "python",
     "metadata": {},
     "outputs": [
      {
       "metadata": {},
       "output_type": "pyout",
       "prompt_number": 238,
       "text": [
        "array([[ 0.27844467]])"
       ]
      }
     ],
     "prompt_number": 238
    },
    {
     "cell_type": "code",
     "collapsed": false,
     "input": [],
     "language": "python",
     "metadata": {},
     "outputs": []
    },
    {
     "cell_type": "code",
     "collapsed": false,
     "input": [
      "predictors=[]"
     ],
     "language": "python",
     "metadata": {},
     "outputs": [],
     "prompt_number": 190
    },
    {
     "cell_type": "code",
     "collapsed": false,
     "input": [
      "for i in df.columns:\n",
      "    predictors.append(i)"
     ],
     "language": "python",
     "metadata": {},
     "outputs": [],
     "prompt_number": 191
    },
    {
     "cell_type": "code",
     "collapsed": false,
     "input": [
      "predictors"
     ],
     "language": "python",
     "metadata": {},
     "outputs": [
      {
       "metadata": {},
       "output_type": "pyout",
       "prompt_number": 192,
       "text": [
        "['LIBOR', 'OIS', 'Oil', 'US', 'US10Y', 'USD']"
       ]
      }
     ],
     "prompt_number": 192
    },
    {
     "cell_type": "code",
     "collapsed": false,
     "input": [
      "cv_errors=[]"
     ],
     "language": "python",
     "metadata": {},
     "outputs": [],
     "prompt_number": 193
    },
    {
     "cell_type": "code",
     "collapsed": false,
     "input": [
      "predictors.pop(4)"
     ],
     "language": "python",
     "metadata": {},
     "outputs": [
      {
       "metadata": {},
       "output_type": "pyout",
       "prompt_number": 198,
       "text": [
        "'US10Y'"
       ]
      }
     ],
     "prompt_number": 198
    },
    {
     "cell_type": "code",
     "collapsed": false,
     "input": [
      "predictors"
     ],
     "language": "python",
     "metadata": {},
     "outputs": [
      {
       "metadata": {},
       "output_type": "pyout",
       "prompt_number": 199,
       "text": [
        "['LIBOR', 'OIS', 'Oil', 'US', 'USD']"
       ]
      }
     ],
     "prompt_number": 199
    },
    {
     "cell_type": "code",
     "collapsed": false,
     "input": [
      "for ncols in range(2,7):\n",
      "    X=df[predictors[0:ncols]].values\n",
      "    y=df[\"US10Y\"].values\n",
      "    kfold=KFold(len(df),n_folds=10)\n",
      "    mses=[]\n",
      "    for train, test in kfold:\n",
      "        Xtrain, ytrain, Xtest, ytest = X[train], y[train], X[test], y[test]\n",
      "        model=LinearRegression()\n",
      "        model.fit(X,y)\n",
      "        ypred=model.predict(Xtest)\n",
      "        mses.append(mean_squared_error(ypred, ytest))\n",
      "    cv_errors.append(np.mean(mses))\n",
      "plt.plot(range(1,6), cv_errors)\n",
      "plt.xlabel(\"degrees\")\n",
      "plt.ylabel(\"cv.error\")"
     ],
     "language": "python",
     "metadata": {},
     "outputs": [
      {
       "metadata": {},
       "output_type": "pyout",
       "prompt_number": 201,
       "text": [
        "<matplotlib.text.Text at 0x114c84e0>"
       ]
      }
     ],
     "prompt_number": 201
    },
    {
     "cell_type": "code",
     "collapsed": false,
     "input": [
      "plt.show()"
     ],
     "language": "python",
     "metadata": {},
     "outputs": [],
     "prompt_number": 202
    },
    {
     "cell_type": "code",
     "collapsed": false,
     "input": [],
     "language": "python",
     "metadata": {},
     "outputs": []
    }
   ],
   "metadata": {}
  }
 ]
}