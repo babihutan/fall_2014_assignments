{
 "metadata": {
  "name": "",
  "signature": "sha256:1048ddbffc7c57a411faa0c7f622460068cd95f8a3773d82d15c2f33e8526075"
 },
 "nbformat": 3,
 "nbformat_minor": 0,
 "worksheets": [
  {
   "cells": [
    {
     "cell_type": "code",
     "collapsed": false,
     "input": [
      "import pandas as pd\n",
      "import matplotlib.pyplot as plt"
     ],
     "language": "python",
     "metadata": {},
     "outputs": [],
     "prompt_number": 1
    },
    {
     "cell_type": "code",
     "collapsed": false,
     "input": [
      "csv_file='c:/Users/Robert/Desktop/fall_2014_assignments/dataexplor01/chicagohouseprices.csv'"
     ],
     "language": "python",
     "metadata": {},
     "outputs": [],
     "prompt_number": 3
    },
    {
     "cell_type": "code",
     "collapsed": false,
     "input": [
      "data=pd.read_csv(csv_file, header=0)"
     ],
     "language": "python",
     "metadata": {},
     "outputs": [],
     "prompt_number": 4
    },
    {
     "cell_type": "code",
     "collapsed": false,
     "input": [
      "data.describe()"
     ],
     "language": "python",
     "metadata": {},
     "outputs": [
      {
       "html": [
        "<div style=\"max-height:1000px;max-width:1500px;overflow:auto;\">\n",
        "<table border=\"1\" class=\"dataframe\">\n",
        "  <thead>\n",
        "    <tr style=\"text-align: right;\">\n",
        "      <th></th>\n",
        "      <th>Price</th>\n",
        "      <th>Bath</th>\n",
        "      <th>CrimeIndex</th>\n",
        "      <th>MinutesToLoop</th>\n",
        "      <th>MilesToLake</th>\n",
        "      <th>Age</th>\n",
        "      <th>LotSizeSqft</th>\n",
        "      <th>HouseSizeSqft</th>\n",
        "      <th>SchoolIndex</th>\n",
        "    </tr>\n",
        "  </thead>\n",
        "  <tbody>\n",
        "    <tr>\n",
        "      <th>count</th>\n",
        "      <td>     219.000000</td>\n",
        "      <td> 70.000000</td>\n",
        "      <td> 219.000000</td>\n",
        "      <td> 219.000000</td>\n",
        "      <td> 219.000000</td>\n",
        "      <td> 219.000000</td>\n",
        "      <td>  219.000000</td>\n",
        "      <td>  219.000000</td>\n",
        "      <td> 219.000000</td>\n",
        "    </tr>\n",
        "    <tr>\n",
        "      <th>mean</th>\n",
        "      <td>  483431.050228</td>\n",
        "      <td>  2.271429</td>\n",
        "      <td>   4.663607</td>\n",
        "      <td>   9.698630</td>\n",
        "      <td>   3.420411</td>\n",
        "      <td>  29.424658</td>\n",
        "      <td>  873.200913</td>\n",
        "      <td>  699.977169</td>\n",
        "      <td>  49.197717</td>\n",
        "    </tr>\n",
        "    <tr>\n",
        "      <th>std</th>\n",
        "      <td>  400124.919077</td>\n",
        "      <td>  0.883364</td>\n",
        "      <td>   1.418146</td>\n",
        "      <td>   2.898995</td>\n",
        "      <td>   0.352522</td>\n",
        "      <td>  49.155880</td>\n",
        "      <td> 1392.893683</td>\n",
        "      <td> 1175.278922</td>\n",
        "      <td>  18.554525</td>\n",
        "    </tr>\n",
        "    <tr>\n",
        "      <th>min</th>\n",
        "      <td>   24500.000000</td>\n",
        "      <td>  1.000000</td>\n",
        "      <td>   1.090000</td>\n",
        "      <td>   6.000000</td>\n",
        "      <td>   2.770000</td>\n",
        "      <td>   0.000000</td>\n",
        "      <td>    0.000000</td>\n",
        "      <td>    0.000000</td>\n",
        "      <td>  16.700000</td>\n",
        "    </tr>\n",
        "    <tr>\n",
        "      <th>25%</th>\n",
        "      <td>  319000.000000</td>\n",
        "      <td>  2.000000</td>\n",
        "      <td>   3.940000</td>\n",
        "      <td>   8.000000</td>\n",
        "      <td>   3.150000</td>\n",
        "      <td>   0.000000</td>\n",
        "      <td>    0.000000</td>\n",
        "      <td>    0.000000</td>\n",
        "      <td>  36.100000</td>\n",
        "    </tr>\n",
        "    <tr>\n",
        "      <th>50%</th>\n",
        "      <td>  390000.000000</td>\n",
        "      <td>  2.000000</td>\n",
        "      <td>   4.930000</td>\n",
        "      <td>   9.000000</td>\n",
        "      <td>   3.400000</td>\n",
        "      <td>   0.000000</td>\n",
        "      <td>    0.000000</td>\n",
        "      <td>    0.000000</td>\n",
        "      <td>  50.000000</td>\n",
        "    </tr>\n",
        "    <tr>\n",
        "      <th>75%</th>\n",
        "      <td>  512500.000000</td>\n",
        "      <td>  3.000000</td>\n",
        "      <td>   5.580000</td>\n",
        "      <td>  10.000000</td>\n",
        "      <td>   3.685000</td>\n",
        "      <td>  41.000000</td>\n",
        "      <td> 2614.000000</td>\n",
        "      <td> 1344.000000</td>\n",
        "      <td>  59.500000</td>\n",
        "    </tr>\n",
        "    <tr>\n",
        "      <th>max</th>\n",
        "      <td> 3686000.000000</td>\n",
        "      <td>  4.000000</td>\n",
        "      <td>   8.080000</td>\n",
        "      <td>  22.000000</td>\n",
        "      <td>   4.200000</td>\n",
        "      <td> 131.000000</td>\n",
        "      <td> 7405.000000</td>\n",
        "      <td> 6422.000000</td>\n",
        "      <td>  93.900000</td>\n",
        "    </tr>\n",
        "  </tbody>\n",
        "</table>\n",
        "</div>"
       ],
       "metadata": {},
       "output_type": "pyout",
       "prompt_number": 6,
       "text": [
        "                Price       Bath  CrimeIndex  MinutesToLoop  MilesToLake  \\\n",
        "count      219.000000  70.000000  219.000000     219.000000   219.000000   \n",
        "mean    483431.050228   2.271429    4.663607       9.698630     3.420411   \n",
        "std     400124.919077   0.883364    1.418146       2.898995     0.352522   \n",
        "min      24500.000000   1.000000    1.090000       6.000000     2.770000   \n",
        "25%     319000.000000   2.000000    3.940000       8.000000     3.150000   \n",
        "50%     390000.000000   2.000000    4.930000       9.000000     3.400000   \n",
        "75%     512500.000000   3.000000    5.580000      10.000000     3.685000   \n",
        "max    3686000.000000   4.000000    8.080000      22.000000     4.200000   \n",
        "\n",
        "              Age  LotSizeSqft  HouseSizeSqft  SchoolIndex  \n",
        "count  219.000000   219.000000     219.000000   219.000000  \n",
        "mean    29.424658   873.200913     699.977169    49.197717  \n",
        "std     49.155880  1392.893683    1175.278922    18.554525  \n",
        "min      0.000000     0.000000       0.000000    16.700000  \n",
        "25%      0.000000     0.000000       0.000000    36.100000  \n",
        "50%      0.000000     0.000000       0.000000    50.000000  \n",
        "75%     41.000000  2614.000000    1344.000000    59.500000  \n",
        "max    131.000000  7405.000000    6422.000000    93.900000  "
       ]
      }
     ],
     "prompt_number": 6
    },
    {
     "cell_type": "code",
     "collapsed": false,
     "input": [
      "data.ix[13,]"
     ],
     "language": "python",
     "metadata": {},
     "outputs": [
      {
       "metadata": {},
       "output_type": "pyout",
       "prompt_number": 8,
       "text": [
        "Address          2116 W Potomac Ave, Chicago IL\n",
        "Neighborhood                        Wicker Park\n",
        "HouseType                     Multi-Family Home\n",
        "Price                                    650000\n",
        "Bath                                          3\n",
        "CrimeIndex                                 3.89\n",
        "MinutesToLoop                                10\n",
        "MilesToLake                                3.86\n",
        "Age                                         119\n",
        "LotSizeSqft                                3485\n",
        "HouseSizeSqft                              3618\n",
        "SchoolIndex                                16.7\n",
        "Name: 13, dtype: object"
       ]
      }
     ],
     "prompt_number": 8
    },
    {
     "cell_type": "code",
     "collapsed": false,
     "input": [
      "(data.Price[13])/(data.HouseSizeSqft[13])"
     ],
     "language": "python",
     "metadata": {},
     "outputs": [
      {
       "metadata": {},
       "output_type": "pyout",
       "prompt_number": 10,
       "text": [
        "179"
       ]
      }
     ],
     "prompt_number": 10
    },
    {
     "cell_type": "code",
     "collapsed": false,
     "input": [
      "(data.Price[13])-179*((data.HouseSizeSqft[13])-3154)"
     ],
     "language": "python",
     "metadata": {},
     "outputs": [
      {
       "metadata": {},
       "output_type": "pyout",
       "prompt_number": 12,
       "text": [
        "566944"
       ]
      }
     ],
     "prompt_number": 12
    },
    {
     "cell_type": "code",
     "collapsed": false,
     "input": [],
     "language": "python",
     "metadata": {},
     "outputs": []
    }
   ],
   "metadata": {}
  }
 ]
}