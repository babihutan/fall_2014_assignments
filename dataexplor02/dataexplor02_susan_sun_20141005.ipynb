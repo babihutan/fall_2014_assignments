{
 "metadata": {
  "name": "",
  "signature": "sha256:40021005fd8d9dac5aa8d5d7773e7d215e9636eae53f99d477cf78031f1ea1d3"
 },
 "nbformat": 3,
 "nbformat_minor": 0,
 "worksheets": [
  {
   "cells": [
    {
     "cell_type": "code",
     "collapsed": false,
     "input": [
      "#Infrared01 through Infrared05 are variables created from the original 3,578 infrared readings taken on each sample.\n",
      "#What is the pH of the sample described in africa_test.csv?\n",
      "#How confident are you with your answer?\n",
      "\n",
      "#SOC, pH, Ca, P, Sand are the five target variables for predictions. \n",
      "#The data have been monotonously transformed from the original measurements and thus include negative values. \n",
      "\n",
      "#PIDN: unique soil sample identifier\n",
      "#SOC: Soil organic carbon\n",
      "#pH: pH values\n",
      "#Ca: Mehlich-3 extractable Calcium\n",
      "#P: Mehlich-3 extractable Phosphorus\n",
      "#Sand: Sand content \n",
      "#m7497.96 - m599.76: There are 3,578 mid-infrared absorbance measurements. \n",
      "    #For example, the \"m7497.96\" column is the absorbance at wavenumber 7497.96 cm-1. \n",
      "    #We suggest you to remove spectra CO2 bands which are in the region m2379.76 to m2352.76, but you do not have to.\n",
      "#Depth: Depth of the soil sample (2 categories: \"Topsoil\", \"Subsoil\")\n",
      "    \n",
      "    "
     ],
     "language": "python",
     "metadata": {},
     "outputs": []
    },
    {
     "cell_type": "code",
     "collapsed": false,
     "input": [
      "pwd"
     ],
     "language": "python",
     "metadata": {},
     "outputs": [
      {
       "metadata": {},
       "output_type": "pyout",
       "prompt_number": 2,
       "text": [
        "u'/home/vagrant'"
       ]
      }
     ],
     "prompt_number": 2
    },
    {
     "cell_type": "code",
     "collapsed": false,
     "input": [
      "ls"
     ],
     "language": "python",
     "metadata": {},
     "outputs": [
      {
       "output_type": "stream",
       "stream": "stdout",
       "text": [
        "\u001b[0m\u001b[01;34mnotebooks\u001b[0m/  \u001b[01;34mrepos\u001b[0m/\r\n"
       ]
      }
     ],
     "prompt_number": 4
    },
    {
     "cell_type": "code",
     "collapsed": false,
     "input": [
      "cd notebooks"
     ],
     "language": "python",
     "metadata": {},
     "outputs": [
      {
       "output_type": "stream",
       "stream": "stdout",
       "text": [
        "[Errno 2] No such file or directory: 'notebooks'\n",
        "/home/vagrant/notebooks\n"
       ]
      }
     ],
     "prompt_number": 6
    },
    {
     "cell_type": "code",
     "collapsed": false,
     "input": [
      "ls"
     ],
     "language": "python",
     "metadata": {},
     "outputs": [
      {
       "output_type": "stream",
       "stream": "stdout",
       "text": [
        "\u001b[0m\u001b[01;34mfall_2014_assignments\u001b[0m/  \u001b[01;34mfall_2014_lessons\u001b[0m/  Lecture_02_Notes.ipynb\r\n"
       ]
      }
     ],
     "prompt_number": 7
    },
    {
     "cell_type": "code",
     "collapsed": false,
     "input": [
      "cd fall_2014_assignments"
     ],
     "language": "python",
     "metadata": {},
     "outputs": [
      {
       "output_type": "stream",
       "stream": "stdout",
       "text": [
        "/home/vagrant/notebooks/fall_2014_assignments\n"
       ]
      }
     ],
     "prompt_number": 8
    },
    {
     "cell_type": "code",
     "collapsed": false,
     "input": [
      "ls"
     ],
     "language": "python",
     "metadata": {},
     "outputs": [
      {
       "output_type": "stream",
       "stream": "stdout",
       "text": [
        "\u001b[0m\u001b[01;34mdataexplor01\u001b[0m/  \u001b[01;34mdataexplor02\u001b[0m/  \u001b[01;34mlab01\u001b[0m/  \u001b[01;34mlab02\u001b[0m/  \u001b[01;34mlab03\u001b[0m/  README.md  tom_buchok\r\n"
       ]
      }
     ],
     "prompt_number": 9
    },
    {
     "cell_type": "code",
     "collapsed": false,
     "input": [
      "cd dataexplor02"
     ],
     "language": "python",
     "metadata": {},
     "outputs": [
      {
       "output_type": "stream",
       "stream": "stdout",
       "text": [
        "/home/vagrant/notebooks/fall_2014_assignments/dataexplor02\n"
       ]
      }
     ],
     "prompt_number": 10
    },
    {
     "cell_type": "code",
     "collapsed": false,
     "input": [
      "ls"
     ],
     "language": "python",
     "metadata": {},
     "outputs": [
      {
       "output_type": "stream",
       "stream": "stdout",
       "text": [
        "africa_ph.csv  africa_test.csv  dataexplor02.pdf  dataexplor02_ss_20141005.ipynb\r\n"
       ]
      }
     ],
     "prompt_number": 11
    },
    {
     "cell_type": "code",
     "collapsed": false,
     "input": [
      "import pandas as pd\n",
      "import numpy as np\n",
      "import matplotlib.pyplot as plt\n",
      "import seaborn as sns\n",
      "from sklearn.linear_model import LinearRegression\n",
      "from IPython.display import Image"
     ],
     "language": "python",
     "metadata": {},
     "outputs": [],
     "prompt_number": 382
    },
    {
     "cell_type": "code",
     "collapsed": false,
     "input": [
      "dat = pd.read_csv('africa_ph.csv', na_values = '?')"
     ],
     "language": "python",
     "metadata": {},
     "outputs": [],
     "prompt_number": 109
    },
    {
     "cell_type": "code",
     "collapsed": false,
     "input": [
      "type(dat)"
     ],
     "language": "python",
     "metadata": {},
     "outputs": [
      {
       "metadata": {},
       "output_type": "pyout",
       "prompt_number": 110,
       "text": [
        "pandas.core.frame.DataFrame"
       ]
      }
     ],
     "prompt_number": 110
    },
    {
     "cell_type": "code",
     "collapsed": false,
     "input": [
      "print dat"
     ],
     "language": "python",
     "metadata": {},
     "outputs": [
      {
       "output_type": "stream",
       "stream": "stdout",
       "text": [
        "     Unnamed: 0      PIDN        pH      ELEV      REF2      BSAN      LSTN  \\\n",
        "0            32  d9u06tdU -0.044436  0.904900 -0.352505 -0.710145 -0.371001   \n",
        "1            33  qsQFu3ef -0.455961  0.904900 -0.352505 -0.710145 -0.371001   \n",
        "2            34  C4kj5IMN -0.549490  0.971715 -0.352505 -0.702899 -0.399312   \n",
        "3            35  p1SCgsM8 -0.951662  0.971715 -0.352505 -0.702899 -0.399312   \n",
        "4            36  UqyLWYTl -0.427903  0.929399 -0.506494 -0.695652 -0.543779   \n",
        "5            37  HhLQiNKo -1.073249  0.929399 -0.506494 -0.695652 -0.543779   \n",
        "6            38  8YUvk1HD -0.568195  1.319154 -0.456401 -0.746377 -0.694920   \n",
        "7            39  cPo3EE0z -0.830075  1.319154 -0.456401 -0.746377 -0.694920   \n",
        "8            40  YGw3F2p0 -0.942309  0.842539 -0.343228 -0.717391 -0.392494   \n",
        "9            41  kUjHzM8N -0.942309  0.842539 -0.343228 -0.717391 -0.392494   \n",
        "10           42  gnuHPDnR -0.727194  0.831403 -0.373840 -0.739130 -0.449228   \n",
        "11           43  oE34qZ1N -1.194836  0.831403 -0.373840 -0.739130 -0.449228   \n",
        "12           44  rZKeQh3O  0.282914  0.944989 -0.458256 -0.717391 -0.453803   \n",
        "13           45  KXwAelnG  0.161327  0.944989 -0.458256 -0.717391 -0.453803   \n",
        "14           46  niEFs9EW -0.727194  0.795768 -0.351577 -0.717391 -0.293508   \n",
        "15           47  6mcoODWx -1.063896  0.795768 -0.351577 -0.717391 -0.293508   \n",
        "16           48  42ky64eL -0.530784  0.706681 -0.482375 -0.753623 -0.444979   \n",
        "17           49  As6AYQlB -0.802016  0.706681 -0.482375 -0.753623 -0.444979   \n",
        "18           50  kf8xv3u1 -0.371786  0.742316 -0.653061 -0.782609 -0.454547   \n",
        "19           51  paJoYYIk -0.764605  0.742316 -0.653061 -0.782609 -0.454547   \n",
        "20           52  yGDHl7WK -0.858133  0.815813 -0.622449 -0.768116 -0.391667   \n",
        "21           53  y1hdcmcI -0.932956  0.815813 -0.622449 -0.768116 -0.391667   \n",
        "22           54  Xils3tp8 -0.586901  0.682183 -0.482375 -0.768116 -0.472287   \n",
        "23           55  YSTsaujO -0.970368  0.682183 -0.482375 -0.768116 -0.472287   \n",
        "24           56  HHPYNfyu  0.021034  0.682183 -0.544527 -0.768116 -0.376346   \n",
        "25           57  XlJWsmdz -0.072494  0.682183 -0.544527 -0.768116 -0.376346   \n",
        "26           58  psw18RC3  0.077151  0.666592 -0.563080 -0.789855 -0.248476   \n",
        "27           59  YYNdJzV3 -0.137964  0.666592 -0.563080 -0.789855 -0.248476   \n",
        "28           60  se9354oU -0.661724  0.693318 -0.682746 -0.782609 -0.461696   \n",
        "29           61  3QinhL7T -0.605607  0.693318 -0.682746 -0.782609 -0.461696   \n",
        "..          ...       ...       ...       ...       ...       ...       ...   \n",
        "706         738  DDPd1Nbp  0.161327  1.147661 -0.255102 -0.601449 -0.286974   \n",
        "707         739  4dSarzbK -0.184729  1.147661 -0.255102 -0.601449 -0.286974   \n",
        "708         740  hstoazX9 -0.371786  1.501782 -0.182746 -0.659420  0.283431   \n",
        "709         741  iYKjcwmO -0.839428  1.501782 -0.182746 -0.659420  0.283431   \n",
        "710         742  hxheBtd8  0.217444  1.238976 -0.216141 -0.615942  0.067524   \n",
        "711         743  VDYSc1F7  0.264208  1.238976 -0.216141 -0.615942  0.067524   \n",
        "712         744  rwgYW07m  0.254855  1.118708 -0.197588 -0.608696 -0.155740   \n",
        "713         745  Dsew4UI0 -0.194081  1.118708 -0.197588 -0.608696 -0.155740   \n",
        "714         746  KbNPWP31 -0.904898  1.058575 -0.214286 -0.615942 -0.312752   \n",
        "715         747  i9G2oODH -0.951662  1.058575 -0.214286 -0.615942 -0.312752   \n",
        "716         748  5VQ0UAk3 -0.072494  1.397105 -0.502783 -0.652174  0.358526   \n",
        "717         749  CAhvBwuS -0.184729  1.397105 -0.502783 -0.652174  0.358526   \n",
        "718         750  RpTu3Ekq  0.451265  1.176615 -0.258813 -0.637681  0.330366   \n",
        "719         751  MWJm5vRp -0.016377  1.176615 -0.258813 -0.637681  0.330366   \n",
        "720         752  Nk85Atiy  0.385795  1.056347 -0.248609 -0.594203 -0.091133   \n",
        "721         753  EvfXHy54 -0.399844  1.056347 -0.248609 -0.594203 -0.091133   \n",
        "722         754  v9l0x2Oz  0.329678  1.074165 -0.266234 -0.615942 -0.242619   \n",
        "723         755  yIV1LC1N -0.306316  1.074165 -0.266234 -0.615942 -0.242619   \n",
        "724         756  qyHQJuBu  0.170679  1.060802 -0.224490 -0.652174  0.154249   \n",
        "725         757  vuEDQgr0 -0.025730  1.060802 -0.224490 -0.652174  0.154249   \n",
        "726         758  gcR5h6OC  0.498029  1.040757 -0.254174 -0.637681  0.079495   \n",
        "727         759  Bhyvs1Md  0.058445  1.040757 -0.254174 -0.637681  0.079495   \n",
        "728         760  vlCQgxMV -0.119259  1.029621 -0.252319 -0.594203 -0.199174   \n",
        "729         761  sQYxbUxw -1.279011  1.029621 -0.252319 -0.594203 -0.199174   \n",
        "730         762  TFIu8Nf1  0.142621  1.096437 -0.410019 -0.644928 -0.241984   \n",
        "731         763  rXAQntxj  0.105210  1.096437 -0.410019 -0.644928 -0.241984   \n",
        "732         764  UhkEeQLJ -1.222894  1.147661 -0.828386 -0.898551 -0.066957   \n",
        "733         765  RORLYzvM -1.363187  1.147661 -0.828386 -0.898551 -0.066957   \n",
        "734         766  THPuLjJl -1.316423  1.100891 -0.730983 -0.818841  0.243294   \n",
        "735         767  r1oFlYvM -1.288364  1.100891 -0.730983 -0.818841  0.243294   \n",
        "\n",
        "     Infrared01  Infrared02  Infrared03  Infrared04  Infrared05  \n",
        "0      0.378298    0.056228    1.349732     1.81377     1.65483  \n",
        "1      0.374321    0.072229    1.459569     1.78552     1.62982  \n",
        "2      0.390773    0.048228    1.555917     1.73194     1.63317  \n",
        "3      0.385719    0.047679    1.662981     1.68115     1.69190  \n",
        "4      0.411471    0.043002    1.522019     1.71672     1.68936  \n",
        "5      0.418422    0.055496    1.757028     1.69042     1.77432  \n",
        "6      0.355758    0.056629    1.656382     1.66929     1.71754  \n",
        "7      0.366130    0.062543    1.806170     1.70455     1.77338  \n",
        "8      0.394830    0.040462    1.557610     1.73287     1.76826  \n",
        "9      0.376025    0.049189    1.705985     1.69024     1.81629  \n",
        "10     0.408471    0.046278    1.485319     1.77975     1.72910  \n",
        "11     0.406571    0.053068    1.680659     1.72793     1.81209  \n",
        "12     0.365075    0.074613    1.626735     1.69680     1.81875  \n",
        "13     0.337334    0.087700    1.786986     1.77608     1.98637  \n",
        "14     0.332226    0.041508    1.440374     1.68166     1.69265  \n",
        "15     0.344980    0.047142    1.550630     1.67380     1.76306  \n",
        "16     0.317534    0.043834    1.503366     1.67328     1.65106  \n",
        "17     0.406038    0.052369    1.660772     1.65646     1.77556  \n",
        "18     0.387944    0.050375    1.541726     1.71021     1.78934  \n",
        "19     0.391566    0.052659    1.672404     1.65315     1.81918  \n",
        "20     0.389620    0.041823    1.553320     1.68058     1.80170  \n",
        "21     0.395306    0.045820    1.641734     1.65583     1.84607  \n",
        "22     0.332414    0.048376    1.587876     1.66808     1.71018  \n",
        "23     0.316520    0.052921    1.704980     1.62608     1.75070  \n",
        "24     0.340081    0.050053    1.545259     1.56978     1.53555  \n",
        "25     0.317117    0.061451    1.769393     1.64912     1.69565  \n",
        "26     0.377380    0.046071    1.589120     1.60365     1.56141  \n",
        "27     0.361091    0.056726    1.718559     1.67278     1.69459  \n",
        "28     0.446960    0.044195    1.719730     1.69268     1.80912  \n",
        "29     0.430489    0.045805    1.672851     1.67619     1.76511  \n",
        "..          ...         ...         ...         ...         ...  \n",
        "706    0.306565    0.054943    1.337235     1.69883     1.45500  \n",
        "707    0.276661    0.059525    1.433559     1.61647     1.42155  \n",
        "708    0.419006    0.015031    1.020994     1.45003     1.52963  \n",
        "709    0.439435    0.015001    1.030705     1.43553     1.52787  \n",
        "710    0.464673    0.032151    1.119447     1.68110     1.49121  \n",
        "711    0.400008    0.042042    1.253372     1.64626     1.48388  \n",
        "712    0.319203    0.057207    1.397377     1.68918     1.52046  \n",
        "713    0.320787    0.058626    1.516673     1.72291     1.59054  \n",
        "714    0.340516    0.042687    1.186684     1.70323     1.41609  \n",
        "715    0.350850    0.045623    1.248960     1.66483     1.40776  \n",
        "716    0.460027    0.026202    1.143013     1.58009     1.53337  \n",
        "717    0.448293    0.031734    1.178777     1.56758     1.49524  \n",
        "718    0.440664    0.021029    1.184386     1.53352     1.44727  \n",
        "719    0.441816    0.024159    1.259374     1.51852     1.48100  \n",
        "720    0.401939    0.032142    1.280951     1.57206     1.48530  \n",
        "721    0.401473    0.035865    1.311237     1.58176     1.46009  \n",
        "722    0.326248    0.049318    1.334132     1.66977     1.39888  \n",
        "723    0.316718    0.054100    1.423572     1.65729     1.44726  \n",
        "724    0.370648    0.019999    1.188362     1.61233     1.51016  \n",
        "725    0.357064    0.021854    1.230816     1.57769     1.47599  \n",
        "726    0.219998    0.053485    1.303812     1.67696     1.45001  \n",
        "727    0.219667    0.067010    1.432393     1.68250     1.51742  \n",
        "728    0.306029    0.040092    1.207881     1.80342     1.45299  \n",
        "729    0.233426    0.066204    1.486994     1.76885     1.52895  \n",
        "730    0.350219    0.032608    1.202311     1.67312     1.41725  \n",
        "731    0.318709    0.035124    1.240521     1.66121     1.40738  \n",
        "732    0.260205    0.026086    1.004715     2.02488     1.38435  \n",
        "733    0.217107    0.038706    1.165093     2.07031     1.41060  \n",
        "734    0.268833    0.023558    0.956477     1.97511     1.34521  \n",
        "735    0.244976    0.026612    0.996424     1.99433     1.34533  \n",
        "\n",
        "[736 rows x 12 columns]\n"
       ]
      }
     ],
     "prompt_number": 111
    },
    {
     "cell_type": "code",
     "collapsed": false,
     "input": [
      "columns = dat.columns"
     ],
     "language": "python",
     "metadata": {},
     "outputs": [],
     "prompt_number": 112
    },
    {
     "cell_type": "code",
     "collapsed": false,
     "input": [
      "print columns"
     ],
     "language": "python",
     "metadata": {},
     "outputs": [
      {
       "output_type": "stream",
       "stream": "stdout",
       "text": [
        "Index([u'Unnamed: 0', u'PIDN', u'pH', u'ELEV', u'REF2', u'BSAN', u'LSTN', u'Infrared01', u'Infrared02', u'Infrared03', u'Infrared04', u'Infrared05'], dtype='object')\n"
       ]
      }
     ],
     "prompt_number": 113
    },
    {
     "cell_type": "code",
     "collapsed": false,
     "input": [
      "for col in columns:\n",
      "    print col, type(dat[col][0])"
     ],
     "language": "python",
     "metadata": {},
     "outputs": [
      {
       "output_type": "stream",
       "stream": "stdout",
       "text": [
        "Unnamed: 0 <type 'numpy.int64'>\n",
        "PIDN <type 'str'>\n",
        "pH <type 'numpy.float64'>\n",
        "ELEV <type 'numpy.float64'>\n",
        "REF2 <type 'numpy.float64'>\n",
        "BSAN <type 'numpy.float64'>\n",
        "LSTN <type 'numpy.float64'>\n",
        "Infrared01 <type 'numpy.float64'>\n",
        "Infrared02 <type 'numpy.float64'>\n",
        "Infrared03 <type 'numpy.float64'>\n",
        "Infrared04 <type 'numpy.float64'>\n",
        "Infrared05 <type 'numpy.float64'>\n"
       ]
      }
     ],
     "prompt_number": 114
    },
    {
     "cell_type": "code",
     "collapsed": false,
     "input": [
      "dat.head()"
     ],
     "language": "python",
     "metadata": {},
     "outputs": [
      {
       "html": [
        "<div style=\"max-height:1000px;max-width:1500px;overflow:auto;\">\n",
        "<table border=\"1\" class=\"dataframe\">\n",
        "  <thead>\n",
        "    <tr style=\"text-align: right;\">\n",
        "      <th></th>\n",
        "      <th>Unnamed: 0</th>\n",
        "      <th>PIDN</th>\n",
        "      <th>pH</th>\n",
        "      <th>ELEV</th>\n",
        "      <th>REF2</th>\n",
        "      <th>BSAN</th>\n",
        "      <th>LSTN</th>\n",
        "      <th>Infrared01</th>\n",
        "      <th>Infrared02</th>\n",
        "      <th>Infrared03</th>\n",
        "      <th>Infrared04</th>\n",
        "      <th>Infrared05</th>\n",
        "    </tr>\n",
        "  </thead>\n",
        "  <tbody>\n",
        "    <tr>\n",
        "      <th>0</th>\n",
        "      <td> 32</td>\n",
        "      <td> d9u06tdU</td>\n",
        "      <td>-0.044436</td>\n",
        "      <td> 0.904900</td>\n",
        "      <td>-0.352505</td>\n",
        "      <td>-0.710145</td>\n",
        "      <td>-0.371001</td>\n",
        "      <td> 0.378298</td>\n",
        "      <td> 0.056228</td>\n",
        "      <td> 1.349732</td>\n",
        "      <td> 1.81377</td>\n",
        "      <td> 1.65483</td>\n",
        "    </tr>\n",
        "    <tr>\n",
        "      <th>1</th>\n",
        "      <td> 33</td>\n",
        "      <td> qsQFu3ef</td>\n",
        "      <td>-0.455961</td>\n",
        "      <td> 0.904900</td>\n",
        "      <td>-0.352505</td>\n",
        "      <td>-0.710145</td>\n",
        "      <td>-0.371001</td>\n",
        "      <td> 0.374321</td>\n",
        "      <td> 0.072229</td>\n",
        "      <td> 1.459569</td>\n",
        "      <td> 1.78552</td>\n",
        "      <td> 1.62982</td>\n",
        "    </tr>\n",
        "    <tr>\n",
        "      <th>2</th>\n",
        "      <td> 34</td>\n",
        "      <td> C4kj5IMN</td>\n",
        "      <td>-0.549490</td>\n",
        "      <td> 0.971715</td>\n",
        "      <td>-0.352505</td>\n",
        "      <td>-0.702899</td>\n",
        "      <td>-0.399312</td>\n",
        "      <td> 0.390773</td>\n",
        "      <td> 0.048228</td>\n",
        "      <td> 1.555917</td>\n",
        "      <td> 1.73194</td>\n",
        "      <td> 1.63317</td>\n",
        "    </tr>\n",
        "    <tr>\n",
        "      <th>3</th>\n",
        "      <td> 35</td>\n",
        "      <td> p1SCgsM8</td>\n",
        "      <td>-0.951662</td>\n",
        "      <td> 0.971715</td>\n",
        "      <td>-0.352505</td>\n",
        "      <td>-0.702899</td>\n",
        "      <td>-0.399312</td>\n",
        "      <td> 0.385719</td>\n",
        "      <td> 0.047679</td>\n",
        "      <td> 1.662981</td>\n",
        "      <td> 1.68115</td>\n",
        "      <td> 1.69190</td>\n",
        "    </tr>\n",
        "    <tr>\n",
        "      <th>4</th>\n",
        "      <td> 36</td>\n",
        "      <td> UqyLWYTl</td>\n",
        "      <td>-0.427903</td>\n",
        "      <td> 0.929399</td>\n",
        "      <td>-0.506494</td>\n",
        "      <td>-0.695652</td>\n",
        "      <td>-0.543779</td>\n",
        "      <td> 0.411471</td>\n",
        "      <td> 0.043002</td>\n",
        "      <td> 1.522019</td>\n",
        "      <td> 1.71672</td>\n",
        "      <td> 1.68936</td>\n",
        "    </tr>\n",
        "  </tbody>\n",
        "</table>\n",
        "</div>"
       ],
       "metadata": {},
       "output_type": "pyout",
       "prompt_number": 115,
       "text": [
        "   Unnamed: 0      PIDN        pH      ELEV      REF2      BSAN      LSTN  \\\n",
        "0          32  d9u06tdU -0.044436  0.904900 -0.352505 -0.710145 -0.371001   \n",
        "1          33  qsQFu3ef -0.455961  0.904900 -0.352505 -0.710145 -0.371001   \n",
        "2          34  C4kj5IMN -0.549490  0.971715 -0.352505 -0.702899 -0.399312   \n",
        "3          35  p1SCgsM8 -0.951662  0.971715 -0.352505 -0.702899 -0.399312   \n",
        "4          36  UqyLWYTl -0.427903  0.929399 -0.506494 -0.695652 -0.543779   \n",
        "\n",
        "   Infrared01  Infrared02  Infrared03  Infrared04  Infrared05  \n",
        "0    0.378298    0.056228    1.349732     1.81377     1.65483  \n",
        "1    0.374321    0.072229    1.459569     1.78552     1.62982  \n",
        "2    0.390773    0.048228    1.555917     1.73194     1.63317  \n",
        "3    0.385719    0.047679    1.662981     1.68115     1.69190  \n",
        "4    0.411471    0.043002    1.522019     1.71672     1.68936  "
       ]
      }
     ],
     "prompt_number": 115
    },
    {
     "cell_type": "code",
     "collapsed": false,
     "input": [
      "dat.describe()"
     ],
     "language": "python",
     "metadata": {},
     "outputs": [
      {
       "html": [
        "<div style=\"max-height:1000px;max-width:1500px;overflow:auto;\">\n",
        "<table border=\"1\" class=\"dataframe\">\n",
        "  <thead>\n",
        "    <tr style=\"text-align: right;\">\n",
        "      <th></th>\n",
        "      <th>Unnamed: 0</th>\n",
        "      <th>pH</th>\n",
        "      <th>ELEV</th>\n",
        "      <th>REF2</th>\n",
        "      <th>BSAN</th>\n",
        "      <th>LSTN</th>\n",
        "      <th>Infrared01</th>\n",
        "      <th>Infrared02</th>\n",
        "      <th>Infrared03</th>\n",
        "      <th>Infrared04</th>\n",
        "      <th>Infrared05</th>\n",
        "    </tr>\n",
        "  </thead>\n",
        "  <tbody>\n",
        "    <tr>\n",
        "      <th>count</th>\n",
        "      <td> 736.000000</td>\n",
        "      <td> 736.000000</td>\n",
        "      <td> 736.000000</td>\n",
        "      <td> 736.000000</td>\n",
        "      <td> 736.000000</td>\n",
        "      <td> 736.000000</td>\n",
        "      <td> 736.000000</td>\n",
        "      <td> 736.000000</td>\n",
        "      <td> 736.000000</td>\n",
        "      <td> 736.000000</td>\n",
        "      <td> 736.000000</td>\n",
        "    </tr>\n",
        "    <tr>\n",
        "      <th>mean</th>\n",
        "      <td> 399.500000</td>\n",
        "      <td>   0.019585</td>\n",
        "      <td>   0.403813</td>\n",
        "      <td>  -0.429374</td>\n",
        "      <td>  -0.563376</td>\n",
        "      <td>  -0.011037</td>\n",
        "      <td>   0.307313</td>\n",
        "      <td>   0.070904</td>\n",
        "      <td>   1.315295</td>\n",
        "      <td>   1.776879</td>\n",
        "      <td>   1.494852</td>\n",
        "    </tr>\n",
        "    <tr>\n",
        "      <th>std</th>\n",
        "      <td> 212.609188</td>\n",
        "      <td>   0.964509</td>\n",
        "      <td>   1.607167</td>\n",
        "      <td>   0.329725</td>\n",
        "      <td>   0.209979</td>\n",
        "      <td>   0.958168</td>\n",
        "      <td>   0.092668</td>\n",
        "      <td>   0.041800</td>\n",
        "      <td>   0.253520</td>\n",
        "      <td>   0.175960</td>\n",
        "      <td>   0.159071</td>\n",
        "    </tr>\n",
        "    <tr>\n",
        "      <th>min</th>\n",
        "      <td>  32.000000</td>\n",
        "      <td>  -1.886946</td>\n",
        "      <td>  -1.326726</td>\n",
        "      <td>  -1.642857</td>\n",
        "      <td>  -1.007246</td>\n",
        "      <td>  -2.720276</td>\n",
        "      <td>   0.044781</td>\n",
        "      <td>   0.009202</td>\n",
        "      <td>   0.367167</td>\n",
        "      <td>   1.295110</td>\n",
        "      <td>   1.132220</td>\n",
        "    </tr>\n",
        "    <tr>\n",
        "      <th>25%</th>\n",
        "      <td> 215.750000</td>\n",
        "      <td>  -0.717841</td>\n",
        "      <td>  -1.050557</td>\n",
        "      <td>  -0.657699</td>\n",
        "      <td>  -0.695652</td>\n",
        "      <td>  -0.448294</td>\n",
        "      <td>   0.249050</td>\n",
        "      <td>   0.041492</td>\n",
        "      <td>   1.166361</td>\n",
        "      <td>   1.675233</td>\n",
        "      <td>   1.382195</td>\n",
        "    </tr>\n",
        "    <tr>\n",
        "      <th>50%</th>\n",
        "      <td> 399.500000</td>\n",
        "      <td>  -0.137964</td>\n",
        "      <td>  -0.166370</td>\n",
        "      <td>  -0.442486</td>\n",
        "      <td>  -0.586957</td>\n",
        "      <td>   0.089564</td>\n",
        "      <td>   0.294500</td>\n",
        "      <td>   0.059636</td>\n",
        "      <td>   1.340995</td>\n",
        "      <td>   1.742140</td>\n",
        "      <td>   1.506285</td>\n",
        "    </tr>\n",
        "    <tr>\n",
        "      <th>75%</th>\n",
        "      <td> 583.250000</td>\n",
        "      <td>   0.455941</td>\n",
        "      <td>   1.365367</td>\n",
        "      <td>  -0.205937</td>\n",
        "      <td>  -0.449275</td>\n",
        "      <td>   0.750153</td>\n",
        "      <td>   0.356444</td>\n",
        "      <td>   0.090415</td>\n",
        "      <td>   1.493126</td>\n",
        "      <td>   1.848032</td>\n",
        "      <td>   1.609793</td>\n",
        "    </tr>\n",
        "    <tr>\n",
        "      <th>max</th>\n",
        "      <td> 767.000000</td>\n",
        "      <td>   2.480832</td>\n",
        "      <td>   4.891537</td>\n",
        "      <td>   0.335807</td>\n",
        "      <td>   0.217391</td>\n",
        "      <td>   1.519218</td>\n",
        "      <td>   0.761519</td>\n",
        "      <td>   0.246435</td>\n",
        "      <td>   1.888528</td>\n",
        "      <td>   2.569190</td>\n",
        "      <td>   1.999830</td>\n",
        "    </tr>\n",
        "  </tbody>\n",
        "</table>\n",
        "</div>"
       ],
       "metadata": {},
       "output_type": "pyout",
       "prompt_number": 116,
       "text": [
        "       Unnamed: 0          pH        ELEV        REF2        BSAN        LSTN  \\\n",
        "count  736.000000  736.000000  736.000000  736.000000  736.000000  736.000000   \n",
        "mean   399.500000    0.019585    0.403813   -0.429374   -0.563376   -0.011037   \n",
        "std    212.609188    0.964509    1.607167    0.329725    0.209979    0.958168   \n",
        "min     32.000000   -1.886946   -1.326726   -1.642857   -1.007246   -2.720276   \n",
        "25%    215.750000   -0.717841   -1.050557   -0.657699   -0.695652   -0.448294   \n",
        "50%    399.500000   -0.137964   -0.166370   -0.442486   -0.586957    0.089564   \n",
        "75%    583.250000    0.455941    1.365367   -0.205937   -0.449275    0.750153   \n",
        "max    767.000000    2.480832    4.891537    0.335807    0.217391    1.519218   \n",
        "\n",
        "       Infrared01  Infrared02  Infrared03  Infrared04  Infrared05  \n",
        "count  736.000000  736.000000  736.000000  736.000000  736.000000  \n",
        "mean     0.307313    0.070904    1.315295    1.776879    1.494852  \n",
        "std      0.092668    0.041800    0.253520    0.175960    0.159071  \n",
        "min      0.044781    0.009202    0.367167    1.295110    1.132220  \n",
        "25%      0.249050    0.041492    1.166361    1.675233    1.382195  \n",
        "50%      0.294500    0.059636    1.340995    1.742140    1.506285  \n",
        "75%      0.356444    0.090415    1.493126    1.848032    1.609793  \n",
        "max      0.761519    0.246435    1.888528    2.569190    1.999830  "
       ]
      }
     ],
     "prompt_number": 116
    },
    {
     "cell_type": "code",
     "collapsed": false,
     "input": [
      "len(dat)"
     ],
     "language": "python",
     "metadata": {},
     "outputs": [
      {
       "metadata": {},
       "output_type": "pyout",
       "prompt_number": 117,
       "text": [
        "736"
       ]
      }
     ],
     "prompt_number": 117
    },
    {
     "cell_type": "code",
     "collapsed": false,
     "input": [
      "dat.corr()"
     ],
     "language": "python",
     "metadata": {},
     "outputs": [
      {
       "html": [
        "<div style=\"max-height:1000px;max-width:1500px;overflow:auto;\">\n",
        "<table border=\"1\" class=\"dataframe\">\n",
        "  <thead>\n",
        "    <tr style=\"text-align: right;\">\n",
        "      <th></th>\n",
        "      <th>Unnamed: 0</th>\n",
        "      <th>pH</th>\n",
        "      <th>ELEV</th>\n",
        "      <th>REF2</th>\n",
        "      <th>BSAN</th>\n",
        "      <th>LSTN</th>\n",
        "      <th>Infrared01</th>\n",
        "      <th>Infrared02</th>\n",
        "      <th>Infrared03</th>\n",
        "      <th>Infrared04</th>\n",
        "      <th>Infrared05</th>\n",
        "    </tr>\n",
        "  </thead>\n",
        "  <tbody>\n",
        "    <tr>\n",
        "      <th>Unnamed: 0</th>\n",
        "      <td> 1.000000</td>\n",
        "      <td> 0.001341</td>\n",
        "      <td> 0.099773</td>\n",
        "      <td>-0.130678</td>\n",
        "      <td>-0.171580</td>\n",
        "      <td>-0.235636</td>\n",
        "      <td> 0.053615</td>\n",
        "      <td>-0.086192</td>\n",
        "      <td>-0.308202</td>\n",
        "      <td> 0.121432</td>\n",
        "      <td>-0.243771</td>\n",
        "    </tr>\n",
        "    <tr>\n",
        "      <th>pH</th>\n",
        "      <td> 0.001341</td>\n",
        "      <td> 1.000000</td>\n",
        "      <td> 0.176186</td>\n",
        "      <td>-0.300895</td>\n",
        "      <td> 0.299121</td>\n",
        "      <td>-0.219313</td>\n",
        "      <td> 0.105399</td>\n",
        "      <td> 0.556729</td>\n",
        "      <td>-0.080019</td>\n",
        "      <td>-0.267116</td>\n",
        "      <td> 0.054529</td>\n",
        "    </tr>\n",
        "    <tr>\n",
        "      <th>ELEV</th>\n",
        "      <td> 0.099773</td>\n",
        "      <td> 0.176186</td>\n",
        "      <td> 1.000000</td>\n",
        "      <td>-0.496091</td>\n",
        "      <td>-0.463918</td>\n",
        "      <td>-0.880093</td>\n",
        "      <td> 0.480666</td>\n",
        "      <td> 0.232696</td>\n",
        "      <td>-0.062068</td>\n",
        "      <td>-0.410551</td>\n",
        "      <td> 0.458919</td>\n",
        "    </tr>\n",
        "    <tr>\n",
        "      <th>REF2</th>\n",
        "      <td>-0.130678</td>\n",
        "      <td>-0.300895</td>\n",
        "      <td>-0.496091</td>\n",
        "      <td> 1.000000</td>\n",
        "      <td> 0.489005</td>\n",
        "      <td> 0.543130</td>\n",
        "      <td>-0.254778</td>\n",
        "      <td>-0.231947</td>\n",
        "      <td> 0.181667</td>\n",
        "      <td> 0.168279</td>\n",
        "      <td>-0.269370</td>\n",
        "    </tr>\n",
        "    <tr>\n",
        "      <th>BSAN</th>\n",
        "      <td>-0.171580</td>\n",
        "      <td> 0.299121</td>\n",
        "      <td>-0.463918</td>\n",
        "      <td> 0.489005</td>\n",
        "      <td> 1.000000</td>\n",
        "      <td> 0.377920</td>\n",
        "      <td>-0.357432</td>\n",
        "      <td> 0.265897</td>\n",
        "      <td> 0.162113</td>\n",
        "      <td> 0.151414</td>\n",
        "      <td>-0.292186</td>\n",
        "    </tr>\n",
        "    <tr>\n",
        "      <th>LSTN</th>\n",
        "      <td>-0.235636</td>\n",
        "      <td>-0.219313</td>\n",
        "      <td>-0.880093</td>\n",
        "      <td> 0.543130</td>\n",
        "      <td> 0.377920</td>\n",
        "      <td> 1.000000</td>\n",
        "      <td>-0.413861</td>\n",
        "      <td>-0.182222</td>\n",
        "      <td> 0.128976</td>\n",
        "      <td> 0.262317</td>\n",
        "      <td>-0.335978</td>\n",
        "    </tr>\n",
        "    <tr>\n",
        "      <th>Infrared01</th>\n",
        "      <td> 0.053615</td>\n",
        "      <td> 0.105399</td>\n",
        "      <td> 0.480666</td>\n",
        "      <td>-0.254778</td>\n",
        "      <td>-0.357432</td>\n",
        "      <td>-0.413861</td>\n",
        "      <td> 1.000000</td>\n",
        "      <td> 0.102746</td>\n",
        "      <td> 0.020156</td>\n",
        "      <td>-0.349524</td>\n",
        "      <td> 0.493270</td>\n",
        "    </tr>\n",
        "    <tr>\n",
        "      <th>Infrared02</th>\n",
        "      <td>-0.086192</td>\n",
        "      <td> 0.556729</td>\n",
        "      <td> 0.232696</td>\n",
        "      <td>-0.231947</td>\n",
        "      <td> 0.265897</td>\n",
        "      <td>-0.182222</td>\n",
        "      <td> 0.102746</td>\n",
        "      <td> 1.000000</td>\n",
        "      <td> 0.397333</td>\n",
        "      <td>-0.297950</td>\n",
        "      <td> 0.437130</td>\n",
        "    </tr>\n",
        "    <tr>\n",
        "      <th>Infrared03</th>\n",
        "      <td>-0.308202</td>\n",
        "      <td>-0.080019</td>\n",
        "      <td>-0.062068</td>\n",
        "      <td> 0.181667</td>\n",
        "      <td> 0.162113</td>\n",
        "      <td> 0.128976</td>\n",
        "      <td> 0.020156</td>\n",
        "      <td> 0.397333</td>\n",
        "      <td> 1.000000</td>\n",
        "      <td>-0.379397</td>\n",
        "      <td> 0.479267</td>\n",
        "    </tr>\n",
        "    <tr>\n",
        "      <th>Infrared04</th>\n",
        "      <td> 0.121432</td>\n",
        "      <td>-0.267116</td>\n",
        "      <td>-0.410551</td>\n",
        "      <td> 0.168279</td>\n",
        "      <td> 0.151414</td>\n",
        "      <td> 0.262317</td>\n",
        "      <td>-0.349524</td>\n",
        "      <td>-0.297950</td>\n",
        "      <td>-0.379397</td>\n",
        "      <td> 1.000000</td>\n",
        "      <td>-0.449469</td>\n",
        "    </tr>\n",
        "    <tr>\n",
        "      <th>Infrared05</th>\n",
        "      <td>-0.243771</td>\n",
        "      <td> 0.054529</td>\n",
        "      <td> 0.458919</td>\n",
        "      <td>-0.269370</td>\n",
        "      <td>-0.292186</td>\n",
        "      <td>-0.335978</td>\n",
        "      <td> 0.493270</td>\n",
        "      <td> 0.437130</td>\n",
        "      <td> 0.479267</td>\n",
        "      <td>-0.449469</td>\n",
        "      <td> 1.000000</td>\n",
        "    </tr>\n",
        "  </tbody>\n",
        "</table>\n",
        "</div>"
       ],
       "metadata": {},
       "output_type": "pyout",
       "prompt_number": 50,
       "text": [
        "            Unnamed: 0        pH      ELEV      REF2      BSAN      LSTN  \\\n",
        "Unnamed: 0    1.000000  0.001341  0.099773 -0.130678 -0.171580 -0.235636   \n",
        "pH            0.001341  1.000000  0.176186 -0.300895  0.299121 -0.219313   \n",
        "ELEV          0.099773  0.176186  1.000000 -0.496091 -0.463918 -0.880093   \n",
        "REF2         -0.130678 -0.300895 -0.496091  1.000000  0.489005  0.543130   \n",
        "BSAN         -0.171580  0.299121 -0.463918  0.489005  1.000000  0.377920   \n",
        "LSTN         -0.235636 -0.219313 -0.880093  0.543130  0.377920  1.000000   \n",
        "Infrared01    0.053615  0.105399  0.480666 -0.254778 -0.357432 -0.413861   \n",
        "Infrared02   -0.086192  0.556729  0.232696 -0.231947  0.265897 -0.182222   \n",
        "Infrared03   -0.308202 -0.080019 -0.062068  0.181667  0.162113  0.128976   \n",
        "Infrared04    0.121432 -0.267116 -0.410551  0.168279  0.151414  0.262317   \n",
        "Infrared05   -0.243771  0.054529  0.458919 -0.269370 -0.292186 -0.335978   \n",
        "\n",
        "            Infrared01  Infrared02  Infrared03  Infrared04  Infrared05  \n",
        "Unnamed: 0    0.053615   -0.086192   -0.308202    0.121432   -0.243771  \n",
        "pH            0.105399    0.556729   -0.080019   -0.267116    0.054529  \n",
        "ELEV          0.480666    0.232696   -0.062068   -0.410551    0.458919  \n",
        "REF2         -0.254778   -0.231947    0.181667    0.168279   -0.269370  \n",
        "BSAN         -0.357432    0.265897    0.162113    0.151414   -0.292186  \n",
        "LSTN         -0.413861   -0.182222    0.128976    0.262317   -0.335978  \n",
        "Infrared01    1.000000    0.102746    0.020156   -0.349524    0.493270  \n",
        "Infrared02    0.102746    1.000000    0.397333   -0.297950    0.437130  \n",
        "Infrared03    0.020156    0.397333    1.000000   -0.379397    0.479267  \n",
        "Infrared04   -0.349524   -0.297950   -0.379397    1.000000   -0.449469  \n",
        "Infrared05    0.493270    0.437130    0.479267   -0.449469    1.000000  "
       ]
      }
     ],
     "prompt_number": 50
    },
    {
     "cell_type": "code",
     "collapsed": false,
     "input": [
      "hist(dat['pH'], bins = 50)"
     ],
     "language": "python",
     "metadata": {},
     "outputs": [
      {
       "metadata": {},
       "output_type": "pyout",
       "prompt_number": 437,
       "text": [
        "(array([  1.,   1.,   1.,   0.,   4.,  14.,  16.,  12.,  15.,  19.,  32.,\n",
        "         32.,  28.,  17.,  27.,  27.,  36.,  27.,  36.,  22.,  37.,  25.,\n",
        "         29.,  33.,  24.,  19.,  19.,  13.,  18.,  13.,   9.,   7.,   6.,\n",
        "          5.,   2.,   3.,   2.,   6.,   5.,   7.,   7.,  14.,  16.,   9.,\n",
        "          6.,   9.,  12.,   9.,   1.,   4.]),\n",
        " array([-1.88694638, -1.79959081, -1.71223524, -1.62487967, -1.5375241 ,\n",
        "        -1.45016853, -1.36281296, -1.27545739, -1.18810181, -1.10074624,\n",
        "        -1.01339067, -0.9260351 , -0.83867953, -0.75132396, -0.66396839,\n",
        "        -0.57661282, -0.48925724, -0.40190167, -0.3145461 , -0.22719053,\n",
        "        -0.13983496, -0.05247939,  0.03487618,  0.12223175,  0.20958733,\n",
        "         0.2969429 ,  0.38429847,  0.47165404,  0.55900961,  0.64636518,\n",
        "         0.73372075,  0.82107632,  0.90843189,  0.99578747,  1.08314304,\n",
        "         1.17049861,  1.25785418,  1.34520975,  1.43256532,  1.51992089,\n",
        "         1.60727646,  1.69463204,  1.78198761,  1.86934318,  1.95669875,\n",
        "         2.04405432,  2.13140989,  2.21876546,  2.30612103,  2.39347661,\n",
        "         2.48083218]),\n",
        " <a list of 50 Patch objects>)"
       ]
      },
      {
       "metadata": {},
       "output_type": "display_data",
       "png": "[encoded data removed]",
       "text": [
        "<matplotlib.figure.Figure at 0x7fad2233fbd0>"
       ]
      }
     ],
     "prompt_number": 437
    },
    {
     "cell_type": "code",
     "collapsed": false,
     "input": [
      "hist(dat['ELEV'], bins = 100)"
     ],
     "language": "python",
     "metadata": {},
     "outputs": [
      {
       "metadata": {},
       "output_type": "pyout",
       "prompt_number": 441,
       "text": [
        "(array([  34.,  101.,    6.,   22.,   60.,   18.,    4.,    8.,   18.,\n",
        "          36.,    4.,   10.,    6.,    8.,   10.,    6.,    6.,    8.,\n",
        "           4.,    4.,    4.,    2.,    4.,    0.,    0.,    0.,    0.,\n",
        "           0.,    0.,    0.,    0.,    0.,   12.,    2.,    8.,    2.,\n",
        "          22.,   16.,   23.,   26.,   14.,    8.,   26.,   22.,   22.,\n",
        "          10.,   12.,    4.,   14.,    4.,    2.,    4.,    2.,    2.,\n",
        "           2.,    0.,    0.,    0.,    2.,    0.,    0.,    0.,    0.,\n",
        "           0.,    0.,    1.,   10.,   10.,    8.,    2.,    2.,    0.,\n",
        "           0.,    2.,   10.,    2.,    6.,    4.,    2.,    2.,    0.,\n",
        "           2.,    2.,    2.,    2.,    2.,    0.,    2.,    0.,    2.,\n",
        "           0.,    0.,    0.,    0.,    4.,    3.,    0.,    8.,    0.,    2.]),\n",
        " array([-1.32672608, -1.26454345, -1.20236082, -1.1401782 , -1.07799557,\n",
        "        -1.01581294, -0.95363031, -0.89144768, -0.82926506, -0.76708243,\n",
        "        -0.7048998 , -0.64271717, -0.58053454, -0.51835192, -0.45616929,\n",
        "        -0.39398666, -0.33180403, -0.2696214 , -0.20743878, -0.14525615,\n",
        "        -0.08307352, -0.02089089,  0.04129174,  0.10347436,  0.16565699,\n",
        "         0.22783962,  0.29002225,  0.35220487,  0.4143875 ,  0.47657013,\n",
        "         0.53875276,  0.60093539,  0.66311801,  0.72530064,  0.78748327,\n",
        "         0.8496659 ,  0.91184853,  0.97403115,  1.03621378,  1.09839641,\n",
        "         1.16057904,  1.22276167,  1.28494429,  1.34712692,  1.40930955,\n",
        "         1.47149218,  1.53367481,  1.59585743,  1.65804006,  1.72022269,\n",
        "         1.78240532,  1.84458794,  1.90677057,  1.9689532 ,  2.03113583,\n",
        "         2.09331846,  2.15550108,  2.21768371,  2.27986634,  2.34204897,\n",
        "         2.4042316 ,  2.46641422,  2.52859685,  2.59077948,  2.65296211,\n",
        "         2.71514474,  2.77732736,  2.83950999,  2.90169262,  2.96387525,\n",
        "         3.02605788,  3.0882405 ,  3.15042313,  3.21260576,  3.27478839,\n",
        "         3.33697101,  3.39915364,  3.46133627,  3.5235189 ,  3.58570153,\n",
        "         3.64788415,  3.71006678,  3.77224941,  3.83443204,  3.89661467,\n",
        "         3.95879729,  4.02097992,  4.08316255,  4.14534518,  4.20752781,\n",
        "         4.26971043,  4.33189306,  4.39407569,  4.45625832,  4.51844095,\n",
        "         4.58062357,  4.6428062 ,  4.70498883,  4.76717146,  4.82935408,\n",
        "         4.89153671]),\n",
        " <a list of 100 Patch objects>)"
       ]
      },
      {
       "metadata": {},
       "output_type": "display_data",
       "png": "[encoded data removed]",
       "text": [
        "<matplotlib.figure.Figure at 0x7fad22535990>"
       ]
      }
     ],
     "prompt_number": 441
    },
    {
     "cell_type": "code",
     "collapsed": false,
     "input": [
      "hist(dat['REF2'], bins = 10)"
     ],
     "language": "python",
     "metadata": {},
     "outputs": [
      {
       "metadata": {},
       "output_type": "pyout",
       "prompt_number": 389,
       "text": [
        "(array([   2.,    8.,   12.,   43.,  126.,  160.,  155.,  130.,   65.,   35.]),\n",
        " array([-1.64285719, -1.44499077, -1.24712434, -1.04925792, -0.85139149,\n",
        "        -0.65352507, -0.45565864, -0.25779222, -0.05992579,  0.13794063,\n",
        "         0.33580706]),\n",
        " <a list of 10 Patch objects>)"
       ]
      },
      {
       "metadata": {},
       "output_type": "display_data",
       "png": "[encoded data removed]",
       "text": [
        "<matplotlib.figure.Figure at 0x7fad2a886ed0>"
       ]
      }
     ],
     "prompt_number": 389
    },
    {
     "cell_type": "code",
     "collapsed": false,
     "input": [
      "hist(dat['BSAN'], bins = 10)"
     ],
     "language": "python",
     "metadata": {},
     "outputs": [
      {
       "metadata": {},
       "output_type": "pyout",
       "prompt_number": 390,
       "text": [
        "(array([  23.,  102.,  136.,  200.,  159.,   75.,   10.,    6.,   10.,   15.]),\n",
        " array([-1.00724638, -0.88478261, -0.76231884, -0.63985507, -0.51739131,\n",
        "        -0.39492754, -0.27246377, -0.15      , -0.02753624,  0.09492753,\n",
        "         0.2173913 ]),\n",
        " <a list of 10 Patch objects>)"
       ]
      },
      {
       "metadata": {},
       "output_type": "display_data",
       "png": "[encoded data removed]",
       "text": [
        "<matplotlib.figure.Figure at 0x7fad23240390>"
       ]
      }
     ],
     "prompt_number": 390
    },
    {
     "cell_type": "code",
     "collapsed": false,
     "input": [
      "hist(dat['LSTN'], bins = 10)"
     ],
     "language": "python",
     "metadata": {},
     "outputs": [
      {
       "metadata": {},
       "output_type": "pyout",
       "prompt_number": 391,
       "text": [
        "(array([  17.,    6.,   58.,   66.,   13.,   99.,  158.,   92.,  158.,   69.]),\n",
        " array([-2.72027564, -2.29632632, -1.87237699, -1.44842767, -1.02447834,\n",
        "        -0.60052902, -0.17657969,  0.24736964,  0.67131896,  1.09526829,\n",
        "         1.51921761]),\n",
        " <a list of 10 Patch objects>)"
       ]
      },
      {
       "metadata": {},
       "output_type": "display_data",
       "png": "[encoded data removed]",
       "text": [
        "<matplotlib.figure.Figure at 0x7fad230d7210>"
       ]
      }
     ],
     "prompt_number": 391
    },
    {
     "cell_type": "code",
     "collapsed": false,
     "input": [
      "hist(dat['Infrared01'], bins = 10)"
     ],
     "language": "python",
     "metadata": {},
     "outputs": [
      {
       "metadata": {},
       "output_type": "pyout",
       "prompt_number": 392,
       "text": [
        "(array([   5.,   46.,  171.,  267.,  147.,   60.,   28.,    7.,    4.,    1.]),\n",
        " array([ 0.0447812 ,  0.11645498,  0.18812876,  0.25980254,  0.33147632,\n",
        "         0.4031501 ,  0.47482388,  0.54649766,  0.61817144,  0.68984522,\n",
        "         0.761519  ]),\n",
        " <a list of 10 Patch objects>)"
       ]
      },
      {
       "metadata": {},
       "output_type": "display_data",
       "png": "[encoded data removed]",
       "text": [
        "<matplotlib.figure.Figure at 0x7fad23191910>"
       ]
      }
     ],
     "prompt_number": 392
    },
    {
     "cell_type": "code",
     "collapsed": false,
     "input": [
      "hist(dat['Infrared02'], bins = 10)"
     ],
     "language": "python",
     "metadata": {},
     "outputs": [
      {
       "metadata": {},
       "output_type": "pyout",
       "prompt_number": 393,
       "text": [
        "(array([ 112.,  225.,  171.,   94.,   59.,   35.,   19.,    9.,    8.,    4.]),\n",
        " array([ 0.009202 ,  0.0329253,  0.0566486,  0.0803719,  0.1040952,\n",
        "         0.1278185,  0.1515418,  0.1752651,  0.1989884,  0.2227117,\n",
        "         0.246435 ]),\n",
        " <a list of 10 Patch objects>)"
       ]
      },
      {
       "metadata": {},
       "output_type": "display_data",
       "png": "[encoded data removed]",
       "text": [
        "<matplotlib.figure.Figure at 0x7fad23091710>"
       ]
      }
     ],
     "prompt_number": 393
    },
    {
     "cell_type": "code",
     "collapsed": false,
     "input": [
      "hist(dat['Infrared03'], bins = 10)"
     ],
     "language": "python",
     "metadata": {},
     "outputs": [
      {
       "metadata": {},
       "output_type": "pyout",
       "prompt_number": 394,
       "text": [
        "(array([   4.,    6.,   29.,   35.,   82.,  125.,  197.,  157.,   83.,   18.]),\n",
        " array([ 0.367167 ,  0.5193031,  0.6714392,  0.8235753,  0.9757114,\n",
        "         1.1278475,  1.2799836,  1.4321197,  1.5842558,  1.7363919,\n",
        "         1.888528 ]),\n",
        " <a list of 10 Patch objects>)"
       ]
      },
      {
       "metadata": {},
       "output_type": "display_data",
       "png": "[encoded data removed]",
       "text": [
        "<matplotlib.figure.Figure at 0x7fad22f18990>"
       ]
      }
     ],
     "prompt_number": 394
    },
    {
     "cell_type": "code",
     "collapsed": false,
     "input": [
      "hist(dat['Infrared04'], bins = 10)"
     ],
     "language": "python",
     "metadata": {},
     "outputs": [
      {
       "metadata": {},
       "output_type": "pyout",
       "prompt_number": 395,
       "text": [
        "(array([   3.,   39.,  154.,  303.,  118.,   71.,   21.,   16.,    6.,    5.]),\n",
        " array([ 1.29511 ,  1.422518,  1.549926,  1.677334,  1.804742,  1.93215 ,\n",
        "         2.059558,  2.186966,  2.314374,  2.441782,  2.56919 ]),\n",
        " <a list of 10 Patch objects>)"
       ]
      },
      {
       "metadata": {},
       "output_type": "display_data",
       "png": "[encoded data removed]",
       "text": [
        "<matplotlib.figure.Figure at 0x7fad22fa0c90>"
       ]
      }
     ],
     "prompt_number": 395
    },
    {
     "cell_type": "code",
     "collapsed": false,
     "input": [
      "hist(dat['Infrared05'], bins = 10)"
     ],
     "language": "python",
     "metadata": {},
     "outputs": [
      {
       "metadata": {},
       "output_type": "pyout",
       "prompt_number": 396,
       "text": [
        "(array([  26.,   94.,   74.,  129.,  165.,  125.,   85.,   31.,    5.,    2.]),\n",
        " array([ 1.13222 ,  1.218981,  1.305742,  1.392503,  1.479264,  1.566025,\n",
        "         1.652786,  1.739547,  1.826308,  1.913069,  1.99983 ]),\n",
        " <a list of 10 Patch objects>)"
       ]
      },
      {
       "metadata": {},
       "output_type": "display_data",
       "png": "[encoded data removed]",
       "text": [
        "<matplotlib.figure.Figure at 0x7fad22eebcd0>"
       ]
      }
     ],
     "prompt_number": 396
    },
    {
     "cell_type": "code",
     "collapsed": false,
     "input": [
      "plt.plot(dat['ELEV'], dat['pH'], 'o',)"
     ],
     "language": "python",
     "metadata": {},
     "outputs": [
      {
       "metadata": {},
       "output_type": "pyout",
       "prompt_number": 436,
       "text": [
        "[<matplotlib.lines.Line2D at 0x7fad22045fd0>]"
       ]
      },
      {
       "metadata": {},
       "output_type": "display_data",
       "png": "[encoded data removed]",
       "text": [
        "<matplotlib.figure.Figure at 0x7fad2239c1d0>"
       ]
      }
     ],
     "prompt_number": 436
    },
    {
     "cell_type": "code",
     "collapsed": false,
     "input": [
      "plt.plot(dat['REF2'], dat['pH'], 'o')"
     ],
     "language": "python",
     "metadata": {},
     "outputs": [
      {
       "metadata": {},
       "output_type": "pyout",
       "prompt_number": 399,
       "text": [
        "[<matplotlib.lines.Line2D at 0x7fad229987d0>]"
       ]
      },
      {
       "metadata": {},
       "output_type": "display_data",
       "png": "[encoded data removed]",
       "text": [
        "<matplotlib.figure.Figure at 0x7fad22c43cd0>"
       ]
      }
     ],
     "prompt_number": 399
    },
    {
     "cell_type": "code",
     "collapsed": false,
     "input": [
      "plt.plot(dat['BSAN'], dat['pH'], 'o')"
     ],
     "language": "python",
     "metadata": {},
     "outputs": [
      {
       "metadata": {},
       "output_type": "pyout",
       "prompt_number": 400,
       "text": [
        "[<matplotlib.lines.Line2D at 0x7fad228dedd0>]"
       ]
      },
      {
       "metadata": {},
       "output_type": "display_data",
       "png": "[encoded data removed]",
       "text": [
        "<matplotlib.figure.Figure at 0x7fad2295f550>"
       ]
      }
     ],
     "prompt_number": 400
    },
    {
     "cell_type": "code",
     "collapsed": false,
     "input": [
      "plt.plot(dat['LSTN'], dat['pH'], 'o')"
     ],
     "language": "python",
     "metadata": {},
     "outputs": [
      {
       "metadata": {},
       "output_type": "pyout",
       "prompt_number": 401,
       "text": [
        "[<matplotlib.lines.Line2D at 0x7fad22841510>]"
       ]
      },
      {
       "metadata": {},
       "output_type": "display_data",
       "png": "[encoded data removed]",
       "text": [
        "<matplotlib.figure.Figure at 0x7fad22c56790>"
       ]
      }
     ],
     "prompt_number": 401
    },
    {
     "cell_type": "code",
     "collapsed": false,
     "input": [
      "plt.plot(dat['Infrared01'], dat['pH'], 'o')"
     ],
     "language": "python",
     "metadata": {},
     "outputs": [
      {
       "metadata": {},
       "output_type": "pyout",
       "prompt_number": 402,
       "text": [
        "[<matplotlib.lines.Line2D at 0x7fad22783b10>]"
       ]
      },
      {
       "metadata": {},
       "output_type": "display_data",
       "png": "[encoded data removed]",
       "text": [
        "<matplotlib.figure.Figure at 0x7fad228092d0>"
       ]
      }
     ],
     "prompt_number": 402
    },
    {
     "cell_type": "code",
     "collapsed": false,
     "input": [
      "plt.plot(dat['Infrared02'], dat['pH'], 'o')"
     ],
     "language": "python",
     "metadata": {},
     "outputs": [
      {
       "metadata": {},
       "output_type": "pyout",
       "prompt_number": 403,
       "text": [
        "[<matplotlib.lines.Line2D at 0x7fad22666250>]"
       ]
      },
      {
       "metadata": {},
       "output_type": "display_data",
       "png": "[encoded data removed]",
       "text": [
        "<matplotlib.figure.Figure at 0x7fad22be00d0>"
       ]
      }
     ],
     "prompt_number": 403
    },
    {
     "cell_type": "code",
     "collapsed": false,
     "input": [
      "plt.plot(dat['Infrared03'], dat['pH'], 'o')"
     ],
     "language": "python",
     "metadata": {},
     "outputs": [
      {
       "metadata": {},
       "output_type": "pyout",
       "prompt_number": 404,
       "text": [
        "[<matplotlib.lines.Line2D at 0x7fad225aa850>]"
       ]
      },
      {
       "metadata": {},
       "output_type": "display_data",
       "png": "[encoded data removed]",
       "text": [
        "<matplotlib.figure.Figure at 0x7fad228c3810>"
       ]
      }
     ],
     "prompt_number": 404
    },
    {
     "cell_type": "code",
     "collapsed": false,
     "input": [
      "plt.plot(dat['Infrared04'], dat['pH'], 'o')"
     ],
     "language": "python",
     "metadata": {},
     "outputs": [
      {
       "metadata": {},
       "output_type": "pyout",
       "prompt_number": 405,
       "text": [
        "[<matplotlib.lines.Line2D at 0x7fad2250c310>]"
       ]
      },
      {
       "metadata": {},
       "output_type": "display_data",
       "png": "[encoded data removed]",
       "text": [
        "<matplotlib.figure.Figure at 0x7fad2279ad50>"
       ]
      }
     ],
     "prompt_number": 405
    },
    {
     "cell_type": "code",
     "collapsed": false,
     "input": [
      "plt.plot(dat['Infrared05'], dat['pH'], 'o')"
     ],
     "language": "python",
     "metadata": {},
     "outputs": [
      {
       "metadata": {},
       "output_type": "pyout",
       "prompt_number": 406,
       "text": [
        "[<matplotlib.lines.Line2D at 0x7fad223e8110>]"
       ]
      },
      {
       "metadata": {},
       "output_type": "display_data",
       "png": "[encoded data removed]",
       "text": [
        "<matplotlib.figure.Figure at 0x7fad22634d90>"
       ]
      }
     ],
     "prompt_number": 406
    },
    {
     "cell_type": "code",
     "collapsed": false,
     "input": [
      "print np.array(dat['pH']).shape\n",
      "#y = np.array(dat['pH'])\n",
      "y = dat['pH']\n",
      "print y.shape\n",
      "#y.shape = (736,1)\n",
      "#print y.shape"
     ],
     "language": "python",
     "metadata": {},
     "outputs": [
      {
       "output_type": "stream",
       "stream": "stdout",
       "text": [
        "(736,)\n",
        "(736,)\n"
       ]
      }
     ],
     "prompt_number": 407
    },
    {
     "cell_type": "code",
     "collapsed": false,
     "input": [
      "print np.array([dat['ELEV'], dat['REF2'], dat['BSAN'], dat['LSTN'], dat['Infrared01']\n",
      "                , dat['Infrared02'], dat['Infrared03'], dat['Infrared04'], dat['Infrared05']]).shape\n",
      "X = np.array([dat['ELEV'], dat['REF2'], dat['BSAN'], dat['LSTN'], dat['Infrared01']\n",
      "              , dat['Infrared02'], dat['Infrared03'], dat['Infrared04'], dat['Infrared05']])\n",
      "#print X\n",
      "print X.shape\n",
      "X.shape = (736,9)\n",
      "print X.shape"
     ],
     "language": "python",
     "metadata": {},
     "outputs": [
      {
       "output_type": "stream",
       "stream": "stdout",
       "text": [
        "(9, 736)\n",
        "(9, 736)\n",
        "(736, 9)\n"
       ]
      }
     ],
     "prompt_number": 408
    },
    {
     "cell_type": "code",
     "collapsed": false,
     "input": [
      "model = LinearRegression(fit_intercept = True)"
     ],
     "language": "python",
     "metadata": {},
     "outputs": [],
     "prompt_number": 409
    },
    {
     "cell_type": "code",
     "collapsed": false,
     "input": [
      "model.fit(X, y)"
     ],
     "language": "python",
     "metadata": {},
     "outputs": [
      {
       "metadata": {},
       "output_type": "pyout",
       "prompt_number": 410,
       "text": [
        "LinearRegression(copy_X=True, fit_intercept=True, normalize=False)"
       ]
      }
     ],
     "prompt_number": 410
    },
    {
     "cell_type": "code",
     "collapsed": false,
     "input": [
      "model.coef_, model.intercept_"
     ],
     "language": "python",
     "metadata": {},
     "outputs": [
      {
       "metadata": {},
       "output_type": "pyout",
       "prompt_number": 411,
       "text": [
        "(array([-0.19677627,  0.43241886, -0.28900292, -0.21160528,  0.29255266,\n",
        "        -0.17409479,  0.06346964,  0.01393387,  0.03440197]),\n",
        " 0.031303579322954356)"
       ]
      }
     ],
     "prompt_number": 411
    },
    {
     "cell_type": "code",
     "collapsed": false,
     "input": [
      "print \"intercept is \", model.intercept_, \"coefficients are \", model.coef_"
     ],
     "language": "python",
     "metadata": {},
     "outputs": [
      {
       "output_type": "stream",
       "stream": "stdout",
       "text": [
        "intercept is  0.031303579323 coefficients are  [-0.19677627  0.43241886 -0.28900292 -0.21160528  0.29255266 -0.17409479\n",
        "  0.06346964  0.01393387  0.03440197]\n"
       ]
      }
     ],
     "prompt_number": 412
    },
    {
     "cell_type": "code",
     "collapsed": false,
     "input": [
      "ls"
     ],
     "language": "python",
     "metadata": {},
     "outputs": [
      {
       "output_type": "stream",
       "stream": "stdout",
       "text": [
        "africa_ph.csv  africa_test.csv  dataexplor02.pdf  dataexplor02_ss_20141005.ipynb\r\n"
       ]
      }
     ],
     "prompt_number": 413
    },
    {
     "cell_type": "code",
     "collapsed": false,
     "input": [
      "# model prediction data\n",
      "pd.read_csv('africa_test.csv')\n",
      "pd.read_csv('africa_test.csv')['JmEfIxOL']"
     ],
     "language": "python",
     "metadata": {},
     "outputs": [
      {
       "metadata": {},
       "output_type": "pyout",
       "prompt_number": 414,
       "text": [
        "0    1.314699\n",
        "1   -0.630798\n",
        "2   -0.760870\n",
        "3   -0.988977\n",
        "4    0.173816\n",
        "5    0.040790\n",
        "6    1.306674\n",
        "7    1.784320\n",
        "8    1.269640\n",
        "Name: JmEfIxOL, dtype: float64"
       ]
      }
     ],
     "prompt_number": 414
    },
    {
     "cell_type": "code",
     "collapsed": false,
     "input": [
      "#print np.array([ones(9), pd.read_csv('africa_test.csv')['JmEfIxOL']]).shape\n",
      "print np.array([pd.read_csv('africa_test.csv')['JmEfIxOL']]).shape\n",
      "X_test = np.array([pd.read_csv('africa_test.csv')['JmEfIxOL']])\n",
      "#X_test = np.array([pd.read_csv('africa_test.csv')['JmEfIxOL']]).reshape(9,1)\n",
      "print X_test.shape"
     ],
     "language": "python",
     "metadata": {},
     "outputs": [
      {
       "output_type": "stream",
       "stream": "stdout",
       "text": [
        "(1, 9)\n",
        "(1, 9)\n"
       ]
      }
     ],
     "prompt_number": 415
    },
    {
     "cell_type": "code",
     "collapsed": false,
     "input": [
      "print X_test.shape, X.shape, y.shape, model.coef_.shape, model.intercept_.shape"
     ],
     "language": "python",
     "metadata": {},
     "outputs": [
      {
       "output_type": "stream",
       "stream": "stdout",
       "text": [
        "(1, 9) (736, 9) (736,) (9,) ()\n"
       ]
      }
     ],
     "prompt_number": 416
    },
    {
     "cell_type": "code",
     "collapsed": false,
     "input": [
      "X_test.shape"
     ],
     "language": "python",
     "metadata": {},
     "outputs": [
      {
       "metadata": {},
       "output_type": "pyout",
       "prompt_number": 417,
       "text": [
        "(1, 9)"
       ]
      }
     ],
     "prompt_number": 417
    },
    {
     "cell_type": "code",
     "collapsed": false,
     "input": [
      "y_hat = model.predict(X_test)\n",
      "print y_hat\n",
      "print y.describe()\n",
      "print model.intercept_, model.coef_"
     ],
     "language": "python",
     "metadata": {},
     "outputs": [
      {
       "output_type": "stream",
       "stream": "stdout",
       "text": [
        "[ 0.12422309]\n",
        "count    736.000000\n",
        "mean       0.019585\n",
        "std        0.964509\n",
        "min       -1.886946\n",
        "25%       -0.717841\n",
        "50%       -0.137964\n",
        "75%        0.455941\n",
        "max        2.480832\n",
        "dtype: float64\n",
        "0.031303579323 [-0.19677627  0.43241886 -0.28900292 -0.21160528  0.29255266 -0.17409479\n",
        "  0.06346964  0.01393387  0.03440197]\n"
       ]
      }
     ],
     "prompt_number": 422
    },
    {
     "cell_type": "code",
     "collapsed": false,
     "input": [
      "#plt.plot(X, y, 'o')\n",
      "#plt.plot(X_test, y_hat)"
     ],
     "language": "python",
     "metadata": {},
     "outputs": [],
     "prompt_number": 386
    },
    {
     "cell_type": "code",
     "collapsed": false,
     "input": [
      "model.score(X, y)"
     ],
     "language": "python",
     "metadata": {},
     "outputs": [
      {
       "metadata": {},
       "output_type": "pyout",
       "prompt_number": 429,
       "text": [
        "0.0090079715648941905"
       ]
      }
     ],
     "prompt_number": 429
    },
    {
     "cell_type": "code",
     "collapsed": false,
     "input": [
      "model.decision_function(X)"
     ],
     "language": "python",
     "metadata": {},
     "outputs": [
      {
       "metadata": {},
       "output_type": "pyout",
       "prompt_number": 431,
       "text": [
        "array([ -7.25236307e-04,   7.36878926e-03,  -4.56324259e-02,\n",
        "         1.37174492e-01,   7.01967920e-02,   7.44481591e-02,\n",
        "         7.94760651e-02,   5.97818012e-02,   5.73532967e-02,\n",
        "         5.79427032e-02,   3.39077989e-02,   6.83372234e-03,\n",
        "         3.81054413e-02,  -2.29012939e-02,  -1.89221229e-01,\n",
        "         8.59236779e-02,   9.11063047e-02,   1.34385492e-03,\n",
        "         8.08887567e-02,   4.92163449e-02,   6.85270061e-02,\n",
        "        -5.09991451e-01,  -1.73391293e-02,  -1.86916797e-02,\n",
        "        -1.08873315e-02,  -1.37622199e-02,   8.11506825e-03,\n",
        "        -1.31974975e-01,   4.08573787e-02,  -2.11634081e-01,\n",
        "        -7.92515774e-02,  -2.68307386e-01,   6.35771133e-02,\n",
        "         5.53115438e-02,   8.68037414e-02,   8.46870624e-02,\n",
        "         4.47329359e-02,   7.05282513e-02,   1.08763352e-01,\n",
        "         2.64131291e-02,  -1.52638832e-01,  -2.42586583e-02,\n",
        "         5.22941039e-01,  -1.98664401e-01,  -1.04629764e-01,\n",
        "        -2.78665165e-01,   6.51008553e-02,   6.56133565e-02,\n",
        "         7.30746042e-02,   1.05703153e+00,  -2.79576102e-02,\n",
        "         1.03945018e-01,  -2.40424363e-01,   2.70601392e-01,\n",
        "        -4.93483827e-02,   2.36351484e-01,  -1.77689607e-01,\n",
        "        -2.27997118e-02,  -1.64358888e-02,   4.70792285e-02,\n",
        "        -1.79832256e-01,   6.07977837e-02,  -1.01134271e-02,\n",
        "        -2.47997398e-01,   8.09067414e-02,   7.62646721e-02,\n",
        "         7.25981339e-02,   6.47882813e-02,   7.70991822e-02,\n",
        "         7.24477578e-02,   8.02473087e-02,   6.74652801e-02,\n",
        "         8.28714166e-02,   5.08048805e-02,   1.06793628e-01,\n",
        "         8.56033472e-03,  -2.89877920e-02,   1.42726196e-02,\n",
        "        -2.08638804e-02,  -6.40502193e-02,  -1.58721230e-02,\n",
        "        -5.99796413e-02,   1.08301100e-01,   3.24825689e-02,\n",
        "        -5.46679922e-03,   6.28349200e-02,   8.78810530e-02,\n",
        "         1.16979859e-01,  -1.18297292e-02,  -3.80577958e-03,\n",
        "         8.40842850e-02,   7.06904527e-02,   5.35226063e-02,\n",
        "         1.80760166e-01,   9.22401866e-02,   1.19387641e-01,\n",
        "         4.42783558e-02,   1.37758252e-02,   6.97615410e-02,\n",
        "        -1.16622764e-01,   5.55957601e-02,   1.37127945e-01,\n",
        "         7.38530545e-02,   7.26230925e-02,   4.34939211e-02,\n",
        "        -2.40044722e-02,  -4.05551178e-03,   8.05390140e-02,\n",
        "         6.49910698e-02,   1.89382169e-02,   1.28202558e-01,\n",
        "         7.91436704e-02,  -3.01175646e-01,   2.36859812e-02,\n",
        "         7.20766609e-02,   5.93148079e-02,   5.76544254e-02,\n",
        "         3.46741863e-02,   6.57083302e-02,   1.61499027e-02,\n",
        "         8.50963124e-02,   6.61572437e-02,   1.24967103e-01,\n",
        "         7.30184772e-02,   2.00955115e-02,   1.49749736e-01,\n",
        "        -1.77471578e-02,   3.27099596e-01,   4.02324819e-02,\n",
        "        -1.22132177e-02,   4.70627453e-02,   2.54463779e-02,\n",
        "         3.38065995e-02,   1.77418912e-02,   7.53769786e-02,\n",
        "        -3.26540464e-01,   1.07735776e-01,   1.11586595e-01,\n",
        "        -1.24290588e-02,  -3.98957899e-02,   3.99823242e-02,\n",
        "        -3.41434243e-02,   1.45232888e-01,  -1.28852438e-01,\n",
        "         6.08013586e-02,   2.62641499e-01,  -4.14669222e-03,\n",
        "         9.99344507e-02,   6.58662467e-03,  -1.20232923e-01,\n",
        "        -1.80738403e-03,   5.17928452e-02,   8.85001893e-02,\n",
        "         5.02216115e-02,   5.96044354e-03,   9.15408922e-02,\n",
        "         1.90305077e-01,  -1.99969734e-02,   1.43026039e-01,\n",
        "         5.73861426e-02,   7.77668328e-02,   1.53677673e-02,\n",
        "         1.72042049e-02,  -2.14047263e-02,   7.41490356e-02,\n",
        "         5.80286667e-02,   5.42619760e-02,   2.21813522e-01,\n",
        "        -9.58449867e-02,   5.47932418e-02,   2.61313423e-02,\n",
        "        -1.47647910e-02,   6.16469079e-02,   3.33656876e-02,\n",
        "        -1.80092525e-02,   7.56462776e-02,   4.85929357e-02,\n",
        "         5.01006962e-02,   4.66241549e-02,   2.46545697e-02,\n",
        "         2.76887263e-02,   6.69162298e-02,   3.85173224e-02,\n",
        "         6.39682388e-02,   2.60939924e-02,   5.00109339e-02,\n",
        "         5.54520886e-02,   7.26016619e-02,   5.44033752e-02,\n",
        "         3.25974158e-02,   6.20322977e-02,   8.54488632e-02,\n",
        "         2.48642956e-02,   2.81393077e-02,   1.19946854e-01,\n",
        "         4.24161563e-02,   6.37620846e-02,   5.85009939e-02,\n",
        "         7.43503469e-02,   6.64250462e-02,   2.98030634e-02,\n",
        "         7.68616154e-02,  -1.47455697e-02,   4.95395589e-02,\n",
        "         4.21019620e-02,   6.21108903e-02,   5.68485592e-02,\n",
        "         5.36775697e-02,   7.46638034e-02,   1.48147852e-01,\n",
        "         4.27115567e-02,   1.38276401e-01,   4.20123346e-02,\n",
        "         9.62754396e-02,   5.68807667e-02,  -9.17327780e-02,\n",
        "         1.08609877e-01,   8.42089814e-02,   3.79027277e-02,\n",
        "         1.49368701e-02,   4.95481615e-02,   6.77407606e-02,\n",
        "         5.01021852e-02,   8.41113109e-02,   2.88864347e-02,\n",
        "         3.64249625e-01,   5.86747294e-02,   6.38134196e-02,\n",
        "         5.61471570e-02,   2.92691453e-02,   4.08168475e-02,\n",
        "         1.25709896e-01,   5.94850515e-02,   3.96654247e-02,\n",
        "         4.72469526e-02,   7.36708404e-02,   3.00786738e-02,\n",
        "        -1.33014804e-02,   4.56095123e-02,   5.68661800e-02,\n",
        "         4.70420677e-02,   4.08996169e-02,   7.84197598e-02,\n",
        "         4.33172958e-02,   4.56324730e-02,   7.85405643e-02,\n",
        "        -3.44013164e-02,   8.94723778e-03,   1.50361972e-02,\n",
        "         4.47501254e-03,  -7.50785836e-02,   1.22098935e-02,\n",
        "         7.22103517e-03,   8.39671480e-02,   1.55058317e-03,\n",
        "         3.51510822e-02,   5.11591438e-03,   6.22816423e-02,\n",
        "        -3.31034967e-03,   4.15748429e-02,   5.26733417e-03,\n",
        "         1.19883952e-04,   2.76837646e-02,  -1.96414470e-02,\n",
        "         2.85077050e-02,   2.60788700e-03,   5.85532544e-02,\n",
        "         1.85510523e-02,   1.88549081e-02,   6.93313378e-02,\n",
        "         1.89185811e-02,   9.23083978e-02,   3.46920233e-02,\n",
        "         3.07686736e-02,   1.36320652e-01,   7.43306470e-02,\n",
        "         1.20649710e-01,   4.41574275e-01,  -1.40055076e-02,\n",
        "         1.84445647e-02,  -3.35940238e-02,   1.33595347e-02,\n",
        "         9.80178042e-03,   3.98434663e-02,   3.18007363e-01,\n",
        "        -1.20496737e-03,   3.63928268e-02,  -6.44724812e-02,\n",
        "         8.40057159e-02,   7.97286748e-02,   1.81496175e-01,\n",
        "        -5.74799219e-01,  -3.45649684e-02,  -4.98011633e-02,\n",
        "        -1.44276621e-01,   1.26247860e-01,   6.06470868e-02,\n",
        "         1.08186655e-01,   1.10213914e-01,   6.42091358e-02,\n",
        "        -2.14808769e-02,  -3.77076762e-02,   1.00013072e-01,\n",
        "         1.08385722e-01,   7.74029150e-02,   6.86440770e-02,\n",
        "         7.92041089e-02,   2.23967282e-01,   7.28421306e-02,\n",
        "         4.26228943e-03,   4.97314175e-02,   4.66385330e-02,\n",
        "         1.35910201e-02,   1.23463440e-02,   6.93237244e-02,\n",
        "         2.75851047e-02,   1.16975267e-01,  -2.22464558e-03,\n",
        "         6.42876351e-03,  -9.28184895e-02,   2.71555882e-02,\n",
        "         6.77848528e-02,   1.17764232e-01,   7.13756837e-02,\n",
        "         3.39665176e-02,   3.50524483e-02,   1.24266490e-01,\n",
        "         4.14606559e-02,  -2.97863757e-03,   1.70636540e-02,\n",
        "        -3.90485177e-02,   3.96714366e-02,  -4.99930104e-03,\n",
        "         5.13201452e-02,   2.37273099e-02,   3.43683150e-03,\n",
        "         1.64788163e-02,   2.24083832e-02,   1.57559330e-02,\n",
        "         1.17493016e-03,   7.78454088e-03,  -8.31843496e-02,\n",
        "         2.57042666e-03,   3.81241850e-02,   1.38641488e-02,\n",
        "         4.54720547e-02,   3.28132810e-04,  -2.34961173e-02,\n",
        "        -2.25562559e-02,  -9.28455958e-03,   2.63785021e-02,\n",
        "         3.24687582e-02,  -8.18447754e-03,  -8.92607030e-02,\n",
        "         3.11078970e-02,   5.75718669e-02,   3.69459231e-02,\n",
        "         2.27217365e-02,   6.02403205e-03,   1.73834630e-03,\n",
        "         3.71262160e-02,   3.31509186e-02,   8.43845554e-03,\n",
        "         2.83058035e-02,   3.23058018e-02,   1.89739861e-02,\n",
        "         8.77317975e-02,   4.12532918e-02,   8.40570389e-02,\n",
        "         8.97197360e-03,   4.12170516e-02,  -7.20207636e-03,\n",
        "         2.39169072e-02,   4.81236483e-02,   4.02557841e-03,\n",
        "         7.92877331e-02,   3.93680859e-02,   2.65576568e-02,\n",
        "         5.63589528e-03,  -3.48194430e-03,   1.58599230e-02,\n",
        "         3.82240149e-02,   7.57465772e-03,   8.57742114e-04,\n",
        "         6.02163531e-02,   6.84711147e-03,   4.56004981e-02,\n",
        "         2.53183196e-02,  -6.56510599e-03,   4.28992235e-02,\n",
        "         2.05570370e-02,   3.37826695e-02,   8.33775113e-03,\n",
        "         1.76387731e-02,  -5.43235573e-03,   3.64160857e-04,\n",
        "         4.96610296e-02,   2.27309599e-02,   2.29128726e-02,\n",
        "         4.58820752e-02,  -2.29728076e-02,   5.73583473e-02,\n",
        "        -1.54721957e-02,   1.46342352e-02,   4.06373010e-02,\n",
        "        -2.02352121e-02,   4.18487610e-02,  -5.47805629e-03,\n",
        "        -3.58956621e-02,   2.76687635e-02,   1.42045429e-02,\n",
        "         2.88097800e-02,   3.41680578e-02,   3.87661044e-02,\n",
        "         2.45500175e-02,   3.78307345e-02,   1.80483227e-02,\n",
        "         4.54166861e-02,   3.19403447e-02,   2.97424970e-02,\n",
        "         2.88708929e-02,   1.29068052e-02,   2.80403164e-02,\n",
        "         1.99535230e-02,   3.39440197e-02,   2.36500906e-02,\n",
        "         2.66122872e-02,   2.92256899e-02,   3.47354685e-02,\n",
        "         3.68685601e-02,   3.88399035e-02,   2.31568599e-02,\n",
        "         3.00154903e-02,   2.61225229e-02,   2.35426843e-02,\n",
        "        -1.62621412e-03,   2.09182880e-02,  -5.25102141e-04,\n",
        "         3.98381726e-02,   2.31277219e-02,  -1.31400906e-02,\n",
        "         3.71586889e-02,   2.79943841e-02,   2.68534414e-02,\n",
        "         1.95579045e-02,   3.07686809e-02,   2.13470711e-02,\n",
        "         2.72133159e-02,   3.03385361e-02,   2.40373149e-02,\n",
        "         3.81333941e-02,   2.03245997e-02,   9.06119465e-07,\n",
        "         3.33603431e-02,   3.87196289e-02,   4.54624062e-02,\n",
        "         1.65656271e-02,   3.01884594e-02,   4.33293321e-05,\n",
        "         4.55175213e-02,   3.83986536e-02,   4.89073323e-02,\n",
        "         2.26101301e-02,   1.87105639e-02,   2.57054757e-02,\n",
        "         3.32058793e-02,   3.19917466e-02,   3.71245658e-02,\n",
        "         1.76640879e-02,   3.39374589e-02,   1.60430999e-02,\n",
        "         3.26360665e-02,   2.86614523e-02,   2.33204847e-02,\n",
        "         3.29168305e-02,   2.29346615e-02,   3.04867473e-02,\n",
        "         3.23226186e-02,   2.99718333e-02,   3.82452573e-02,\n",
        "         2.65872106e-02,   1.84327259e-02,   3.71053719e-02,\n",
        "         4.13320351e-02,   3.56838053e-02,   2.71376568e-02,\n",
        "         3.58996235e-02,   3.11602808e-02,   2.83246725e-02,\n",
        "         2.98765511e-02,   1.86136057e-01,  -5.20467658e-02,\n",
        "         6.48084929e-02,   6.71896019e-03,   6.64233087e-02,\n",
        "         7.48200352e-02,  -1.45274505e-01,  -9.32860346e-02,\n",
        "        -5.70121676e-02,   1.12616102e-01,  -3.76003587e-02,\n",
        "         2.05030433e-01,  -3.89576793e-02,   7.49718314e-02,\n",
        "        -9.52642822e-02,  -1.12685732e-01,  -5.70723476e-02,\n",
        "         1.76021427e-02,  -4.86105329e-02,   3.30260830e-01,\n",
        "        -9.76620860e-02,   5.76186058e-02,  -5.74236051e-02,\n",
        "         1.20955289e-01,  -7.61220947e-02,   1.09010044e-01,\n",
        "        -3.15661157e-02,   9.27898105e-02,  -1.40697517e-02,\n",
        "         1.08961294e-02,   7.61317193e-03,  -4.50078822e-02,\n",
        "        -9.74727867e-02,  -1.08609046e-01,  -5.22174734e-02,\n",
        "         7.17743309e-02,  -1.54990409e-02,  -5.60237550e-02,\n",
        "         1.68146040e-02,   3.22627824e-02,   1.15146847e-01,\n",
        "        -5.39260533e-04,   5.90854604e-02,  -9.48249169e-02,\n",
        "         9.01748341e-02,  -3.54631848e-02,  -4.95273741e-02,\n",
        "         9.08330667e-03,  -7.07135117e-02,  -7.19580688e-02,\n",
        "         5.63680017e-03,  -3.01769265e-02,   8.93556233e-02,\n",
        "        -1.72532087e-01,  -1.91394591e-02,  -1.16872227e-02,\n",
        "        -8.53293090e-04,  -3.08322387e-02,   9.55390850e-02,\n",
        "         2.72629052e-01,  -8.89891176e-02,  -4.00551352e-02,\n",
        "        -7.21131663e-03,  -4.08564892e-02,  -2.75442113e-03,\n",
        "         3.32728688e-01,   3.51757886e-02,   1.50947999e-01,\n",
        "         8.21852709e-02,   2.35089944e-01,   7.54053719e-02,\n",
        "         6.06835186e-02,   5.21050219e-02,  -2.78080827e-02,\n",
        "        -1.53768997e-01,  -1.76415864e-02,   6.08160202e-02,\n",
        "        -6.58631903e-02,  -6.72310300e-02,  -3.08741535e-02,\n",
        "         3.08103556e-02,  -3.98160802e-03,   2.62317063e-01,\n",
        "        -5.97491067e-02,  -1.02781502e-02,  -4.48268451e-02,\n",
        "        -6.21594021e-03,  -8.15061840e-02,   1.50383098e-02,\n",
        "        -7.50019993e-02,   1.40377944e-02,  -4.95234097e-02,\n",
        "        -6.69595927e-02,  -9.36061277e-02,  -7.10422776e-03,\n",
        "        -1.32722637e-01,  -5.66663338e-03,   2.75312527e-02,\n",
        "        -3.98578748e-03,  -1.84567807e-01,   6.63510427e-03,\n",
        "         3.26528992e-02,  -3.10822196e-02,   5.09687151e-02,\n",
        "         1.74081649e-02,  -2.48122439e-02,  -7.11248078e-02,\n",
        "         9.64119768e-02,  -2.76428413e-02,  -9.07429414e-02,\n",
        "        -5.30134453e-02,  -1.92754710e-02,  -5.70478501e-02,\n",
        "        -3.48635177e-02,   2.37463536e-02,  -6.47317959e-02,\n",
        "         2.20203439e-02,   2.27711465e-02,  -5.41068769e-03,\n",
        "        -2.21780441e-02,  -6.15579481e-02,  -5.02024122e-02,\n",
        "        -8.75422345e-02,  -8.69425533e-02,  -1.08931721e-01,\n",
        "        -3.01234615e-02,  -2.79577104e-02,  -5.89386950e-02,\n",
        "        -6.42069479e-03,  -6.86571812e-02,  -1.83535699e-02,\n",
        "        -3.82521556e-02,  -2.18405565e-02,  -9.06997955e-02,\n",
        "        -6.94462303e-02,  -1.41603620e-01,   5.19427278e-03,\n",
        "        -3.10844508e-02,  -4.34148813e-02,  -5.36536905e-03,\n",
        "        -1.52510314e-02,   8.40187247e-02,  -7.57035292e-02,\n",
        "        -7.29817078e-02,   3.94903324e-02,  -2.06905598e-02,\n",
        "        -3.40580666e-02,   1.24219430e-01,  -2.08547446e-02,\n",
        "         7.16430160e-02,  -2.62726152e-02,  -1.06107252e-01,\n",
        "         3.55454211e-03,   1.55332720e-01,  -8.19589589e-03,\n",
        "        -9.94828534e-02,   6.05808649e-03,  -6.26632384e-02,\n",
        "        -4.91533097e-02,  -3.04778967e-02,   9.08030401e-02,\n",
        "        -5.24622337e-02,   2.78556822e-03,   9.21401106e-03,\n",
        "         5.61757206e-02,  -2.00174070e-02,  -3.64073526e-02,\n",
        "        -7.57605819e-02,   6.20651544e-02,  -3.10625408e-02,\n",
        "         5.38310458e-02,  -1.87086282e-02,  -2.87225386e-02,\n",
        "        -1.63799174e-01,   4.37077981e-03,  -4.23823218e-02,\n",
        "        -5.99868545e-02,   5.83100622e-02,  -6.13045790e-02,\n",
        "        -5.35117806e-02,   3.34963042e-02,  -8.65933109e-02,\n",
        "        -1.22686252e-02,   1.41666876e-02,   4.59750770e-02,\n",
        "        -1.54468075e-02,   7.12268767e-04,   4.82816294e-02,\n",
        "        -2.79238670e-02,  -7.40746189e-02,  -7.17741227e-02,\n",
        "        -3.23137740e-02,  -7.30643395e-02,   1.11796142e-01,\n",
        "        -8.23451355e-02,  -5.54450914e-02,   3.18382896e-02,\n",
        "         1.39542406e-02,   5.01627818e-02,  -3.70867080e-02,\n",
        "        -2.66830806e-02,  -3.74916767e-02,   9.94464872e-02,\n",
        "         3.88842515e-03,  -2.40554899e-02,  -2.95444880e-02,\n",
        "        -2.74077624e-02,  -5.72898097e-02,  -3.21849231e-02,\n",
        "         6.53573972e-02,  -1.43668186e-02,   3.72707385e-02,\n",
        "        -6.33027155e-02,  -6.30993071e-02,  -7.92898955e-02,\n",
        "        -3.41229747e-02,  -5.45810335e-03,   3.68416678e-02,\n",
        "        -3.67873043e-02,  -6.91645443e-04,  -6.63526099e-02,\n",
        "         1.76914827e-02,  -2.80250981e-03,  -1.00881245e-01,\n",
        "        -1.58253973e-02,   1.28794779e-02,  -3.38254716e-02,\n",
        "        -8.21431789e-03,  -1.87832869e-02,   1.97934216e-02,\n",
        "        -4.46534993e-02,  -1.05798834e-02,  -5.84828177e-02,\n",
        "         2.20324581e-03,  -3.28871062e-02,  -2.92739816e-02,\n",
        "        -8.49258463e-03,   2.40025339e-02,   3.63323662e-02,\n",
        "        -2.86057607e-02,  -7.77197099e-02,   4.82899000e-02,\n",
        "         4.70045512e-02,   5.83715263e-03,  -2.77068635e-02,\n",
        "        -5.54760842e-02])"
       ]
      }
     ],
     "prompt_number": 431
    },
    {
     "cell_type": "code",
     "collapsed": false,
     "input": [
      "model.get_params(deep=True)"
     ],
     "language": "python",
     "metadata": {},
     "outputs": [
      {
       "metadata": {},
       "output_type": "pyout",
       "prompt_number": 433,
       "text": [
        "{'copy_X': True, 'fit_intercept': True, 'normalize': False}"
       ]
      }
     ],
     "prompt_number": 433
    },
    {
     "cell_type": "code",
     "collapsed": false,
     "input": [
      "dat.corr()"
     ],
     "language": "python",
     "metadata": {},
     "outputs": [
      {
       "html": [
        "<div style=\"max-height:1000px;max-width:1500px;overflow:auto;\">\n",
        "<table border=\"1\" class=\"dataframe\">\n",
        "  <thead>\n",
        "    <tr style=\"text-align: right;\">\n",
        "      <th></th>\n",
        "      <th>Unnamed: 0</th>\n",
        "      <th>pH</th>\n",
        "      <th>ELEV</th>\n",
        "      <th>REF2</th>\n",
        "      <th>BSAN</th>\n",
        "      <th>LSTN</th>\n",
        "      <th>Infrared01</th>\n",
        "      <th>Infrared02</th>\n",
        "      <th>Infrared03</th>\n",
        "      <th>Infrared04</th>\n",
        "      <th>Infrared05</th>\n",
        "    </tr>\n",
        "  </thead>\n",
        "  <tbody>\n",
        "    <tr>\n",
        "      <th>Unnamed: 0</th>\n",
        "      <td> 1.000000</td>\n",
        "      <td> 0.001341</td>\n",
        "      <td> 0.099773</td>\n",
        "      <td>-0.130678</td>\n",
        "      <td>-0.171580</td>\n",
        "      <td>-0.235636</td>\n",
        "      <td> 0.053615</td>\n",
        "      <td>-0.086192</td>\n",
        "      <td>-0.308202</td>\n",
        "      <td> 0.121432</td>\n",
        "      <td>-0.243771</td>\n",
        "    </tr>\n",
        "    <tr>\n",
        "      <th>pH</th>\n",
        "      <td> 0.001341</td>\n",
        "      <td> 1.000000</td>\n",
        "      <td> 0.176186</td>\n",
        "      <td>-0.300895</td>\n",
        "      <td> 0.299121</td>\n",
        "      <td>-0.219313</td>\n",
        "      <td> 0.105399</td>\n",
        "      <td> 0.556729</td>\n",
        "      <td>-0.080019</td>\n",
        "      <td>-0.267116</td>\n",
        "      <td> 0.054529</td>\n",
        "    </tr>\n",
        "    <tr>\n",
        "      <th>ELEV</th>\n",
        "      <td> 0.099773</td>\n",
        "      <td> 0.176186</td>\n",
        "      <td> 1.000000</td>\n",
        "      <td>-0.496091</td>\n",
        "      <td>-0.463918</td>\n",
        "      <td>-0.880093</td>\n",
        "      <td> 0.480666</td>\n",
        "      <td> 0.232696</td>\n",
        "      <td>-0.062068</td>\n",
        "      <td>-0.410551</td>\n",
        "      <td> 0.458919</td>\n",
        "    </tr>\n",
        "    <tr>\n",
        "      <th>REF2</th>\n",
        "      <td>-0.130678</td>\n",
        "      <td>-0.300895</td>\n",
        "      <td>-0.496091</td>\n",
        "      <td> 1.000000</td>\n",
        "      <td> 0.489005</td>\n",
        "      <td> 0.543130</td>\n",
        "      <td>-0.254778</td>\n",
        "      <td>-0.231947</td>\n",
        "      <td> 0.181667</td>\n",
        "      <td> 0.168279</td>\n",
        "      <td>-0.269370</td>\n",
        "    </tr>\n",
        "    <tr>\n",
        "      <th>BSAN</th>\n",
        "      <td>-0.171580</td>\n",
        "      <td> 0.299121</td>\n",
        "      <td>-0.463918</td>\n",
        "      <td> 0.489005</td>\n",
        "      <td> 1.000000</td>\n",
        "      <td> 0.377920</td>\n",
        "      <td>-0.357432</td>\n",
        "      <td> 0.265897</td>\n",
        "      <td> 0.162113</td>\n",
        "      <td> 0.151414</td>\n",
        "      <td>-0.292186</td>\n",
        "    </tr>\n",
        "    <tr>\n",
        "      <th>LSTN</th>\n",
        "      <td>-0.235636</td>\n",
        "      <td>-0.219313</td>\n",
        "      <td>-0.880093</td>\n",
        "      <td> 0.543130</td>\n",
        "      <td> 0.377920</td>\n",
        "      <td> 1.000000</td>\n",
        "      <td>-0.413861</td>\n",
        "      <td>-0.182222</td>\n",
        "      <td> 0.128976</td>\n",
        "      <td> 0.262317</td>\n",
        "      <td>-0.335978</td>\n",
        "    </tr>\n",
        "    <tr>\n",
        "      <th>Infrared01</th>\n",
        "      <td> 0.053615</td>\n",
        "      <td> 0.105399</td>\n",
        "      <td> 0.480666</td>\n",
        "      <td>-0.254778</td>\n",
        "      <td>-0.357432</td>\n",
        "      <td>-0.413861</td>\n",
        "      <td> 1.000000</td>\n",
        "      <td> 0.102746</td>\n",
        "      <td> 0.020156</td>\n",
        "      <td>-0.349524</td>\n",
        "      <td> 0.493270</td>\n",
        "    </tr>\n",
        "    <tr>\n",
        "      <th>Infrared02</th>\n",
        "      <td>-0.086192</td>\n",
        "      <td> 0.556729</td>\n",
        "      <td> 0.232696</td>\n",
        "      <td>-0.231947</td>\n",
        "      <td> 0.265897</td>\n",
        "      <td>-0.182222</td>\n",
        "      <td> 0.102746</td>\n",
        "      <td> 1.000000</td>\n",
        "      <td> 0.397333</td>\n",
        "      <td>-0.297950</td>\n",
        "      <td> 0.437130</td>\n",
        "    </tr>\n",
        "    <tr>\n",
        "      <th>Infrared03</th>\n",
        "      <td>-0.308202</td>\n",
        "      <td>-0.080019</td>\n",
        "      <td>-0.062068</td>\n",
        "      <td> 0.181667</td>\n",
        "      <td> 0.162113</td>\n",
        "      <td> 0.128976</td>\n",
        "      <td> 0.020156</td>\n",
        "      <td> 0.397333</td>\n",
        "      <td> 1.000000</td>\n",
        "      <td>-0.379397</td>\n",
        "      <td> 0.479267</td>\n",
        "    </tr>\n",
        "    <tr>\n",
        "      <th>Infrared04</th>\n",
        "      <td> 0.121432</td>\n",
        "      <td>-0.267116</td>\n",
        "      <td>-0.410551</td>\n",
        "      <td> 0.168279</td>\n",
        "      <td> 0.151414</td>\n",
        "      <td> 0.262317</td>\n",
        "      <td>-0.349524</td>\n",
        "      <td>-0.297950</td>\n",
        "      <td>-0.379397</td>\n",
        "      <td> 1.000000</td>\n",
        "      <td>-0.449469</td>\n",
        "    </tr>\n",
        "    <tr>\n",
        "      <th>Infrared05</th>\n",
        "      <td>-0.243771</td>\n",
        "      <td> 0.054529</td>\n",
        "      <td> 0.458919</td>\n",
        "      <td>-0.269370</td>\n",
        "      <td>-0.292186</td>\n",
        "      <td>-0.335978</td>\n",
        "      <td> 0.493270</td>\n",
        "      <td> 0.437130</td>\n",
        "      <td> 0.479267</td>\n",
        "      <td>-0.449469</td>\n",
        "      <td> 1.000000</td>\n",
        "    </tr>\n",
        "  </tbody>\n",
        "</table>\n",
        "</div>"
       ],
       "metadata": {},
       "output_type": "pyout",
       "prompt_number": 440,
       "text": [
        "            Unnamed: 0        pH      ELEV      REF2      BSAN      LSTN  \\\n",
        "Unnamed: 0    1.000000  0.001341  0.099773 -0.130678 -0.171580 -0.235636   \n",
        "pH            0.001341  1.000000  0.176186 -0.300895  0.299121 -0.219313   \n",
        "ELEV          0.099773  0.176186  1.000000 -0.496091 -0.463918 -0.880093   \n",
        "REF2         -0.130678 -0.300895 -0.496091  1.000000  0.489005  0.543130   \n",
        "BSAN         -0.171580  0.299121 -0.463918  0.489005  1.000000  0.377920   \n",
        "LSTN         -0.235636 -0.219313 -0.880093  0.543130  0.377920  1.000000   \n",
        "Infrared01    0.053615  0.105399  0.480666 -0.254778 -0.357432 -0.413861   \n",
        "Infrared02   -0.086192  0.556729  0.232696 -0.231947  0.265897 -0.182222   \n",
        "Infrared03   -0.308202 -0.080019 -0.062068  0.181667  0.162113  0.128976   \n",
        "Infrared04    0.121432 -0.267116 -0.410551  0.168279  0.151414  0.262317   \n",
        "Infrared05   -0.243771  0.054529  0.458919 -0.269370 -0.292186 -0.335978   \n",
        "\n",
        "            Infrared01  Infrared02  Infrared03  Infrared04  Infrared05  \n",
        "Unnamed: 0    0.053615   -0.086192   -0.308202    0.121432   -0.243771  \n",
        "pH            0.105399    0.556729   -0.080019   -0.267116    0.054529  \n",
        "ELEV          0.480666    0.232696   -0.062068   -0.410551    0.458919  \n",
        "REF2         -0.254778   -0.231947    0.181667    0.168279   -0.269370  \n",
        "BSAN         -0.357432    0.265897    0.162113    0.151414   -0.292186  \n",
        "LSTN         -0.413861   -0.182222    0.128976    0.262317   -0.335978  \n",
        "Infrared01    1.000000    0.102746    0.020156   -0.349524    0.493270  \n",
        "Infrared02    0.102746    1.000000    0.397333   -0.297950    0.437130  \n",
        "Infrared03    0.020156    0.397333    1.000000   -0.379397    0.479267  \n",
        "Infrared04   -0.349524   -0.297950   -0.379397    1.000000   -0.449469  \n",
        "Infrared05    0.493270    0.437130    0.479267   -0.449469    1.000000  "
       ]
      }
     ],
     "prompt_number": 440
    },
    {
     "cell_type": "code",
     "collapsed": false,
     "input": [],
     "language": "python",
     "metadata": {},
     "outputs": []
    }
   ],
   "metadata": {}
  }
 ]
}